{
 "cells": [
  {
   "cell_type": "markdown",
   "id": "115b1289",
   "metadata": {},
   "source": [
    "💡 **Question 1**\n",
    "\n",
    "Given an integer `n`, return *`true` if it is a power of two. Otherwise, return `false`*.\n",
    "\n",
    "An integer `n` is a power of two, if there exists an integer `x` such that `n == 2x`.\n",
    "\n",
    "**Example 1:**\n",
    "Input: n = 1 \n",
    "\n",
    "Output: true\n",
    "\n",
    "**Example 2:**\n",
    "Input: n = 16 \n",
    "\n",
    "Output: true\n",
    "\n",
    "**Example 3:**\n",
    "Input: n = 3 \n",
    "\n",
    "Output: false"
   ]
  },
  {
   "cell_type": "code",
   "execution_count": 2,
   "id": "cb0191e2",
   "metadata": {},
   "outputs": [
    {
     "name": "stdout",
     "output_type": "stream",
     "text": [
      "Enter a Number16\n",
      "True\n"
     ]
    }
   ],
   "source": [
    "def checkingSqure(n): \n",
    "    pow = 1 \n",
    "    while True: \n",
    "        pow = pow * 2  \n",
    "        if pow <= n: \n",
    "            if pow == n: \n",
    "                return True \n",
    "        else: \n",
    "            return False \n",
    "\n",
    "n = int(input(\"Enter a Number\"))\n",
    "print(checkingSqure(n)) "
   ]
  },
  {
   "cell_type": "markdown",
   "id": "0ee01dc2",
   "metadata": {},
   "source": [
    "💡 **Question 2**\n",
    "\n",
    "Given a number n, find the sum of the first natural numbers.\n",
    "\n",
    "**Example 1:**\n",
    "\n",
    "Input: n = 3 \n",
    "\n",
    "Output: 6\n",
    "\n",
    "**Example 2:**\n",
    "\n",
    "Input  : 5 \n",
    "\n",
    "Output : 15"
   ]
  },
  {
   "cell_type": "code",
   "execution_count": 3,
   "id": "4ce32ce0",
   "metadata": {},
   "outputs": [
    {
     "name": "stdout",
     "output_type": "stream",
     "text": [
      "6\n"
     ]
    }
   ],
   "source": [
    "def sumNaturalNum(num): \n",
    "    sum = 0 \n",
    "    for i in range(1,num+1): \n",
    "        sum += i \n",
    "    return sum \n",
    "\n",
    "num = 3 \n",
    "print(sumNaturalNum(num)) "
   ]
  },
  {
   "cell_type": "markdown",
   "id": "06266b8c",
   "metadata": {},
   "source": [
    "💡 **Question 3**\n",
    "\n",
    "****Given a positive integer, N. Find the factorial of N. \n",
    "\n",
    "**Example 1:**\n",
    "\n",
    "Input: N = 5 \n",
    "\n",
    "Output: 120\n",
    "\n",
    "**Example 2:**\n",
    "\n",
    "Input: N = 4\n",
    "\n",
    "Output: 24"
   ]
  },
  {
   "cell_type": "code",
   "execution_count": 4,
   "id": "758c83c4",
   "metadata": {},
   "outputs": [
    {
     "name": "stdout",
     "output_type": "stream",
     "text": [
      "24\n"
     ]
    }
   ],
   "source": [
    "def fact(num): \n",
    "    fact = 1 \n",
    "    for i in range(1,num+1): \n",
    "        fact *= i \n",
    "    return fact \n",
    "\n",
    "num = 4 \n",
    "print(fact(num)) "
   ]
  },
  {
   "cell_type": "markdown",
   "id": "b30fdfc6",
   "metadata": {},
   "source": [
    "💡 **Question 4**\n",
    "\n",
    "Given a number N and a power P, the task is to find the exponent of this number raised to the given power, i.e. N^P.\n",
    "\n",
    "**Example 1 :** \n",
    "\n",
    "Input: N = 5, P = 2\n",
    "\n",
    "Output: 25\n",
    "\n",
    "**Example 2 :**\n",
    "Input: N = 2, P = 5\n",
    "\n",
    "Output: 32"
   ]
  },
  {
   "cell_type": "code",
   "execution_count": 5,
   "id": "0916f05e",
   "metadata": {},
   "outputs": [
    {
     "name": "stdout",
     "output_type": "stream",
     "text": [
      "32\n"
     ]
    }
   ],
   "source": [
    "def power(n,p): \n",
    "    pow = 1 \n",
    "    for i in range(p): \n",
    "        pow = pow * n \n",
    "    return pow \n",
    "\n",
    "n = 2 \n",
    "p = 5 \n",
    "print(power(n,p)) "
   ]
  },
  {
   "cell_type": "markdown",
   "id": "3d8a8671",
   "metadata": {},
   "source": [
    "💡 **Question 5**\n",
    "\n",
    "Given an array of integers **arr**, the task is to find maximum element of that array using recursion.\n",
    "\n",
    "**Example 1:**\n",
    "\n",
    "Input: arr = {1, 4, 3, -5, -4, 8, 6};\n",
    "Output: 8\n",
    "\n",
    "**Example 2:**\n",
    "\n",
    "Input: arr = {1, 4, 45, 6, 10, -8};\n",
    "Output: 45"
   ]
  },
  {
   "cell_type": "code",
   "execution_count": 7,
   "id": "f8bc1c0a",
   "metadata": {},
   "outputs": [
    {
     "name": "stdout",
     "output_type": "stream",
     "text": [
      "45\n"
     ]
    }
   ],
   "source": [
    "def findMinRec(a, n): \n",
    "    if (n == 1): \n",
    "        return a[0] \n",
    "    return max(a[n - 1], findMinRec(a, n - 1)) \n",
    "\n",
    "a =  [1, 4, 45, 6, 10, -8] \n",
    "n = len(a) \n",
    "print(findMinRec(a, n)) "
   ]
  },
  {
   "cell_type": "markdown",
   "id": "895ff3ff",
   "metadata": {},
   "source": [
    "💡 **Question 6**\n",
    "\n",
    "Given first term (a), common difference (d) and a integer N of the Arithmetic Progression series, the task is to find Nth term of the series.\n",
    "\n",
    "**Example 1:**\n",
    "\n",
    "Input : a = 2 d = 1 N = 5\n",
    "Output : 6\n",
    "The 5th term of the series is : 6\n",
    "\n",
    "**Example 2:**\n",
    "\n",
    "Input : a = 5 d = 2 N = 10\n",
    "Output : 23\n",
    "The 10th term of the series is : 23"
   ]
  },
  {
   "cell_type": "code",
   "execution_count": 8,
   "id": "41cf60be",
   "metadata": {},
   "outputs": [
    {
     "name": "stdout",
     "output_type": "stream",
     "text": [
      "6\n"
     ]
    }
   ],
   "source": [
    "def nthOfAP(a, d, n) : \n",
    "    return (a + (n - 1) * d) \n",
    "\n",
    "a = 2 \n",
    "d = 1  \n",
    "n = 5  \n",
    "print(nthOfAP(a, d, n)) "
   ]
  },
  {
   "cell_type": "markdown",
   "id": "22bce1b9",
   "metadata": {},
   "source": [
    "💡 **Question 7**\n",
    "\n",
    "Given a string S, the task is to write a program to print all permutations of a given string.\n",
    "\n",
    "**Example 1:**\n",
    "\n",
    "***Input:***\n",
    "\n",
    "*S = “ABC”*\n",
    "\n",
    "***Output:***\n",
    "\n",
    "*“ABC”, “ACB”, “BAC”, “BCA”, “CBA”, “CAB”*\n",
    "\n",
    "**Example 2:**\n",
    "\n",
    "***Input:***\n",
    "\n",
    "*S = “XY”*\n",
    "\n",
    "***Output:***\n",
    "\n",
    "*“XY”, “YX”*"
   ]
  },
  {
   "cell_type": "code",
   "execution_count": 17,
   "id": "277d21a1",
   "metadata": {},
   "outputs": [
    {
     "name": "stdout",
     "output_type": "stream",
     "text": [
      "ABC\n",
      "ACB\n",
      "BAC\n",
      "BCA\n",
      "CBA\n",
      "CAB\n",
      "permutation :  ['ABC', 'ACB', 'BAC', 'BCA', 'CBA', 'CAB']\n"
     ]
    }
   ],
   "source": [
    "l1 = []\n",
    "def generatePermutation(string,start,end):   \n",
    "    current = 0;   \n",
    "    if(start == end-1):   \n",
    "        print(string); \n",
    "        l1.append(string)\n",
    "        \n",
    "    else:    \n",
    "        for current in range(start,end):   \n",
    "            x = list(string)   \n",
    "            temp = x[start]  \n",
    "            x[start] = x[current]\n",
    "            x[current] = temp\n",
    "\n",
    "            generatePermutation(\"\".join(x),start+1,end) \n",
    "            temp = x[start]\n",
    "            x[start] = x[current]\n",
    "            x[current] = temp\n",
    "   \n",
    "\n",
    "str = \"ABC\"   \n",
    "n = len(str)\n",
    "generatePermutation(str,0,n) \n",
    "print(\"permutation : \",l1)"
   ]
  },
  {
   "cell_type": "markdown",
   "id": "9631ffd9",
   "metadata": {},
   "source": [
    "💡 **Question 8**\n",
    "\n",
    "Given an array, find a product of all array elements.\n",
    "\n",
    "**Example 1:**\n",
    "\n",
    "Input  : arr[] = {1, 2, 3, 4, 5}\n",
    "Output : 120\n",
    "\n",
    "**Example 2:**\n",
    "\n",
    "Input  : arr[] = {1, 6, 3}\n",
    "Output : 18"
   ]
  },
  {
   "cell_type": "code",
   "execution_count": 18,
   "id": "273539c0",
   "metadata": {},
   "outputs": [
    {
     "name": "stdout",
     "output_type": "stream",
     "text": [
      "120\n"
     ]
    }
   ],
   "source": [
    "def arrProd(arr): \n",
    "    prod = 1 \n",
    "    for i in arr: \n",
    "        prod *= i \n",
    "    return prod \n",
    "\n",
    "arr = [1, 2, 3, 4, 5] \n",
    "print(arrProd(arr)) "
   ]
  }
 ],
 "metadata": {
  "kernelspec": {
   "display_name": "Python 3 (ipykernel)",
   "language": "python",
   "name": "python3"
  },
  "language_info": {
   "codemirror_mode": {
    "name": "ipython",
    "version": 3
   },
   "file_extension": ".py",
   "mimetype": "text/x-python",
   "name": "python",
   "nbconvert_exporter": "python",
   "pygments_lexer": "ipython3",
   "version": "3.10.9"
  }
 },
 "nbformat": 4,
 "nbformat_minor": 5
}
