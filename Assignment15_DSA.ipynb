{
 "cells": [
  {
   "cell_type": "markdown",
   "id": "2eac6d5f",
   "metadata": {},
   "source": [
    "💡 **Question 1**\n",
    "\n",
    "Given an array **arr[ ]** of size **N** having elements, the task is to find the next greater element for each element of the array in order of their appearance in the array.Next greater element of an element in the array is the nearest element on the right which is greater than the current element.If there does not exist next greater of current element, then next greater element for current element is -1. For example, next greater of the last element is always -1.\n",
    "\n",
    "**Example 1:**\n",
    "Input:\n",
    "N = 4, arr[] = [1 3 2 4]\n",
    "Output:\n",
    "3 4 4 -1\n",
    "Explanation:\n",
    "In the array, the next larger element\n",
    "to 1 is 3 , 3 is 4 , 2 is 4 and for 4 ?\n",
    "since it doesn't exist, it is -1.\n",
    "\n",
    "**Example 2:**\n",
    "Input:\n",
    "N = 5, arr[] [6 8 0 1 3]\n",
    "Output:\n",
    "8 -1 1 3 -1\n",
    "Explanation:\n",
    "In the array, the next larger element to\n",
    "6 is 8, for 8 there is no larger elements\n",
    "hence it is -1, for 0 it is 1 , for 1 it\n",
    "is 3 and then for 3 there is no larger\n",
    "element on right and hence -1."
   ]
  },
  {
   "cell_type": "code",
   "execution_count": 3,
   "id": "a80bddae",
   "metadata": {},
   "outputs": [
    {
     "name": "stdout",
     "output_type": "stream",
     "text": [
      "Enter the length of stack: 5\n",
      "[8, -1, 1, 3, -1]\n"
     ]
    }
   ],
   "source": [
    "from collections import deque\n",
    " \n",
    "def findNextGreaterElements(input_stack):\n",
    "    if not input_stack:\n",
    "        return\n",
    " \n",
    "    result = [-1] * len(input_stack)\n",
    " \n",
    "    s = deque()\n",
    "    for i in range(n):\n",
    "        while s and input_stack[s[-1]] < input_stack[i]:\n",
    "            result[s[-1]] = input_stack[i]\n",
    "            s.pop()\n",
    "\n",
    "        s.append(i)\n",
    " \n",
    "    return result \n",
    " \n",
    "n = int(input(\"Enter the length of stack: \"))\n",
    "#input_stack = [1,3,2,4]\n",
    "input_stack = [6, 8, 0, 1, 3]\n",
    "print(findNextGreaterElements(input_stack))"
   ]
  },
  {
   "cell_type": "markdown",
   "id": "bf458962",
   "metadata": {},
   "source": [
    "💡 **Question 2**\n",
    "\n",
    "Given an array **a** of integers of length **n**, find the nearest smaller number for every element such that the smaller element is on left side.If no small element present on the left print -1.\n",
    "\n",
    "**Example 1:**\n",
    "Input: n = 3\n",
    "a = {1, 6, 2}\n",
    "Output: -1 1 1\n",
    "Explaination: There is no number at the\n",
    "left of 1. Smaller number than 6 and 2 is 1.\n",
    "\n",
    "**Example 2:**\n",
    "Input: n = 6\n",
    "a = {1, 5, 0, 3, 4, 5}\n",
    "Output: -1 1 -1 0 3 4\n",
    "Explaination: Upto 3 it is easy to see\n",
    "the smaller numbers. But for 4 the smaller\n",
    "numbers are 1, 0 and 3. But among them 3\n",
    "is closest. Similary for 5 it is 4."
   ]
  },
  {
   "cell_type": "code",
   "execution_count": 8,
   "id": "ef3971f9",
   "metadata": {},
   "outputs": [
    {
     "name": "stdout",
     "output_type": "stream",
     "text": [
      "Enter the length of stack: 6\n",
      "-1 1 -1 0 3 4 "
     ]
    }
   ],
   "source": [
    "import math as mt\n",
    "def printPrevSmaller(arr, n):\n",
    "    S = list()\n",
    "    for i in range(n):\n",
    "        while (len(S) > 0 and S[-1] >= arr[i]):\n",
    "            S.pop()\n",
    "\n",
    "        if (len(S) == 0):\n",
    "            print(\"-1 \", end = \"\")\n",
    "        else:\n",
    "            print(S[-1], end = \" \")\n",
    "\n",
    "        S.append(arr[i])\n",
    "\n",
    "#arr = [ 1, 6, 2]\n",
    "arr = [1, 5, 0, 3, 4, 5]\n",
    "n = int(input(\"Enter the length of stack: \"))\n",
    "printPrevSmaller(arr, n)"
   ]
  },
  {
   "cell_type": "markdown",
   "id": "ede129c6",
   "metadata": {},
   "source": [
    "💡 **Question 3**\n",
    "\n",
    "Implement a Stack using two queues **q1** and **q2**.\n",
    "\n",
    "**Example 1:**\n",
    "Input:\n",
    "push(2)\n",
    "push(3)\n",
    "pop()\n",
    "push(4)\n",
    "pop()\n",
    "Output:3 4\n",
    "Explanation:\n",
    "push(2) the stack will be {2}\n",
    "push(3) the stack will be {2 3}\n",
    "pop()   poped element will be 3 the\n",
    "        stack will be {2}\n",
    "push(4) the stack will be {2 4}\n",
    "pop()   poped element will be 4\n",
    "\n",
    "**Example 2:**\n",
    "Input:\n",
    "push(2)\n",
    "pop()\n",
    "pop()\n",
    "push(3)\n",
    "Output:2 -1"
   ]
  },
  {
   "cell_type": "code",
   "execution_count": 40,
   "id": "5b541320",
   "metadata": {},
   "outputs": [
    {
     "name": "stdout",
     "output_type": "stream",
     "text": [
      "3 4 "
     ]
    }
   ],
   "source": [
    "from queue import Queue\n",
    "\n",
    "class Stack:\n",
    "    def __init__(self):\n",
    "        self.firstQ = Queue()\n",
    "        self.secondQ = Queue()\n",
    "        self.currentSize = 0\n",
    "\n",
    "    def push(self, val):\n",
    "        self.secondQ.put(val)\n",
    "        self.currentSize += 1\n",
    "        while not self.firstQ.empty():\n",
    "            self.secondQ.put(self.firstQ.queue[0])\n",
    "            self.firstQ.get()\n",
    "\n",
    "        self.tempQ = self.firstQ\n",
    "        self.firstQ = self.secondQ\n",
    "        self.secondQ = self.tempQ\n",
    "\n",
    "    def pop(self):\n",
    "        if not self.firstQ.empty():\n",
    "            val = self.firstQ.get()\n",
    "            self.currentSize -= 1\n",
    "            return val\n",
    "        else:\n",
    "            return -1\n",
    "            \n",
    "obj1 = Stack()\n",
    "'''obj1.push(2)\n",
    "print(obj1.pop(), end= ' ')\n",
    "print(obj1.pop(), end= ' ')\n",
    "obj1.push(3)'''\n",
    "\n",
    "obj1.push(2)\n",
    "obj1.push(3)\n",
    "print(obj1.pop(), end= ' ')\n",
    "obj1.push(4)\n",
    "print(obj1.pop(), end= ' ')"
   ]
  },
  {
   "cell_type": "markdown",
   "id": "7afb941a",
   "metadata": {},
   "source": [
    "💡 **Question 4**\n",
    "\n",
    "You are given a stack **St**. You have to reverse the stack using recursion.\n",
    "\n",
    "**Example 1:**\n",
    "Input:St = {3,2,1,7,6}\n",
    "Output:{6,7,1,2,3}\n",
    "\n",
    "**Example 2:**\n",
    "Input:St = {4,3,9,6}\n",
    "Output:{6,9,3,4}"
   ]
  },
  {
   "cell_type": "code",
   "execution_count": 47,
   "id": "f81df744",
   "metadata": {},
   "outputs": [
    {
     "name": "stdout",
     "output_type": "stream",
     "text": [
      "Original Stack \n",
      "6 7 1 2 3 \n",
      "Reversed Stack \n",
      "3 2 1 7 6 \n"
     ]
    }
   ],
   "source": [
    "def insertAtBottom(stack, item):\n",
    "    if isEmpty(stack):\n",
    "        push(stack, item)\n",
    "    else:\n",
    "        temp = pop(stack)\n",
    "        insertAtBottom(stack, item)\n",
    "        push(stack, temp)\n",
    "\n",
    "def reverse(stack):\n",
    "    if not isEmpty(stack):\n",
    "        temp = pop(stack)\n",
    "        reverse(stack)\n",
    "        insertAtBottom(stack, temp)\n",
    "\n",
    "def createStack():\n",
    "    stack = []\n",
    "    return stack\n",
    "\n",
    "def isEmpty(stack):\n",
    "    return len(stack) == 0\n",
    "\n",
    "def push(stack, item):\n",
    "    stack.append(item)\n",
    "\n",
    "def pop(stack):\n",
    "    if(isEmpty(stack)):\n",
    "        print(\"Stack Underflow \")\n",
    "        exit(1)\n",
    "    return stack.pop()\n",
    "\n",
    "def prints(stack):\n",
    "    for i in range(len(stack)-1, -1, -1):\n",
    "        print(stack[i], end=' ')\n",
    "    print()\n",
    "\n",
    "stack = createStack()\n",
    "push(stack, str(3))\n",
    "push(stack, str(2))\n",
    "push(stack, str(1))\n",
    "push(stack, str(7))\n",
    "push(stack, str(6))\n",
    "print(\"Original Stack \")\n",
    "prints(stack)\n",
    "\n",
    "reverse(stack)\n",
    "\n",
    "print(\"Reversed Stack \")\n",
    "prints(stack)"
   ]
  },
  {
   "cell_type": "markdown",
   "id": "81277077",
   "metadata": {},
   "source": [
    "💡 **Question 5**\n",
    "\n",
    "You are given a string **S**, the task is to reverse the string using stack.\n",
    "\n",
    "**Example 1:**\n",
    "Input: S=\"GeeksforGeeks\"\n",
    "Output: skeeGrofskeeG"
   ]
  },
  {
   "cell_type": "code",
   "execution_count": 49,
   "id": "73def4a3",
   "metadata": {},
   "outputs": [
    {
     "name": "stdout",
     "output_type": "stream",
     "text": [
      "Reversed string is skeeGrofskeeG\n"
     ]
    }
   ],
   "source": [
    "def createStack():\n",
    "    stack = []\n",
    "    return stack\n",
    "\n",
    "def size(stack):\n",
    "    return len(stack)\n",
    "\n",
    "def isEmpty(stack):\n",
    "    if size(stack) == 0:\n",
    "        return true\n",
    "\n",
    "def push(stack, item):\n",
    "    stack.append(item)\n",
    "\n",
    "def pop(stack):\n",
    "    if isEmpty(stack):\n",
    "        return\n",
    "    return stack.pop()\n",
    "\n",
    "def reverse(string):\n",
    "    n = len(string)\n",
    "    stack = createStack()\n",
    "    for i in range(0, n, 1):\n",
    "        push(stack, string[i])\n",
    "\n",
    "    string = \"\"\n",
    "\n",
    "    for i in range(0, n, 1):\n",
    "        string += pop(stack)\n",
    "\n",
    "    return string\n",
    "\n",
    "string = \"GeeksforGeeks\"\n",
    "string = reverse(string)\n",
    "print(\"Reversed string is \" + string)"
   ]
  },
  {
   "cell_type": "markdown",
   "id": "547e7b43",
   "metadata": {},
   "source": [
    "💡 **Question 6**\n",
    "\n",
    "Given string **S** representing a postfix expression, the task is to evaluate the expression and find the final value. Operators will only include the basic arithmetic operators like ***, /, + and -**.\n",
    "\n",
    "**Example 1:**\n",
    "Input: S = \"231*+9-\"\n",
    "Output: -4\n",
    "Explanation:\n",
    "After solving the given expression,\n",
    "we have -4 as result.\n",
    "\n",
    "**Example 2:**\n",
    "Input: S = \"123+*8-\"\n",
    "Output: -3\n",
    "Explanation:\n",
    "After solving the given postfix\n",
    "expression, we have -3 as result."
   ]
  },
  {
   "cell_type": "code",
   "execution_count": null,
   "id": "18aaa699",
   "metadata": {},
   "outputs": [],
   "source": []
  },
  {
   "cell_type": "markdown",
   "id": "5e40bb1a",
   "metadata": {},
   "source": [
    "💡 **Question 7**\n",
    "\n",
    "Design a stack that supports push, pop, top, and retrieving the minimum element in constant time.\n",
    "\n",
    "Implement the `MinStack` class:\n",
    "\n",
    "- `MinStack()` initializes the stack object.\n",
    "- `void push(int val)` pushes the element `val` onto the stack.\n",
    "- `void pop()` removes the element on the top of the stack.\n",
    "- `int top()` gets the top element of the stack.\n",
    "- `int getMin()` retrieves the minimum element in the stack.\n",
    "\n",
    "You must implement a solution with `O(1)` time complexity for each function.\n",
    "\n",
    "**Example 1:**\n",
    "Input\n",
    "[\"MinStack\",\"push\",\"push\",\"push\",\"getMin\",\"pop\",\"top\",\"getMin\"]\n",
    "[[],[-2],[0],[-3],[],[],[],[]]\n",
    "\n",
    "Output\n",
    "[null,null,null,null,-3,null,0,-2]\n",
    "\n",
    "Explanation\n",
    "MinStack minStack = new MinStack();\n",
    "minStack.push(-2);\n",
    "minStack.push(0);\n",
    "minStack.push(-3);\n",
    "minStack.getMin(); // return -3\n",
    "minStack.pop();\n",
    "minStack.top();    // return 0\n",
    "minStack.getMin(); // return -2"
   ]
  },
  {
   "cell_type": "code",
   "execution_count": null,
   "id": "4e000d7a",
   "metadata": {},
   "outputs": [],
   "source": []
  },
  {
   "cell_type": "markdown",
   "id": "c10bb743",
   "metadata": {},
   "source": [
    "💡 **Question 8**\n",
    "\n",
    "Given `n` non-negative integers representing an elevation map where the width of each bar is `1`, compute how much water it can trap after raining.\n",
    "\n",
    "**Example 1:**\n",
    "Input: height = [0,1,0,2,1,0,1,3,2,1,2,1]\n",
    "Output: 6\n",
    "Explanation: The above elevation map (black section) is represented by array [0,1,0,2,1,0,1,3,2,1,2,1]. In this case, 6 units of rain water (blue section) are being trapped.\n",
    "\n",
    "**Example 2:**\n",
    "Input: height = [4,2,0,3,2,5]\n",
    "Output: 9"
   ]
  },
  {
   "cell_type": "code",
   "execution_count": 66,
   "id": "b14a2c6c",
   "metadata": {},
   "outputs": [
    {
     "name": "stdout",
     "output_type": "stream",
     "text": [
      "9\n"
     ]
    }
   ],
   "source": [
    "def maxWater(arr, n):\n",
    "    res = 0\n",
    "\n",
    "    for i in range(1, n - 1):\n",
    "        left = arr[i]\n",
    "        for j in range(i):\n",
    "            left = max(left, arr[j])\n",
    "\n",
    "        right = arr[i]\n",
    "\n",
    "        for j in range(i + 1, n):\n",
    "            right = max(right, arr[j])\n",
    "\n",
    "        res = res + (min(left, right) - arr[i])\n",
    "\n",
    "    return res\n",
    "\n",
    "#arr = [0,1,0,2,1,0,1,3,2,1,2,1]\n",
    "arr = [4,2,0,3,2,5]\n",
    "n = len(arr)\n",
    "\n",
    "print(maxWater(arr, n))"
   ]
  }
 ],
 "metadata": {
  "kernelspec": {
   "display_name": "Python 3 (ipykernel)",
   "language": "python",
   "name": "python3"
  },
  "language_info": {
   "codemirror_mode": {
    "name": "ipython",
    "version": 3
   },
   "file_extension": ".py",
   "mimetype": "text/x-python",
   "name": "python",
   "nbconvert_exporter": "python",
   "pygments_lexer": "ipython3",
   "version": "3.10.9"
  }
 },
 "nbformat": 4,
 "nbformat_minor": 5
}
