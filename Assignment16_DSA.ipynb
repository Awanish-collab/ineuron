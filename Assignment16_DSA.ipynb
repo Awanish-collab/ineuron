{
 "cells": [
  {
   "cell_type": "markdown",
   "id": "64b4b409",
   "metadata": {},
   "source": [
    "💡 **Question 1**\n",
    "\n",
    "Given an array, for each element find the value of the nearest element to the right which is having a frequency greater than that of the current element. If there does not exist an answer for a position, then make the value ‘-1’.\n",
    "\n",
    "**Examples:**\n",
    "Input: a[] = [1, 1, 2, 3, 4, 2, 1]\n",
    "Output : [-1, -1, 1, 2, 2, 1, -1]\n",
    "\n",
    "Explanation:\n",
    "Given array a[] = [1, 1, 2, 3, 4, 2, 1]\n",
    "Frequency of each element is: 3, 3, 2, 1, 1, 2, 3\n",
    "\n",
    "Lets calls Next Greater Frequency element as NGF\n",
    "1. For element a[0] = 1 which has a frequency = 3,\n",
    "   As it has frequency of 3 and no other next element\n",
    "   has frequency more than 3 so  '-1'\n",
    "2. For element a[1] = 1 it will be -1 same logic\n",
    "   like a[0]\n",
    "3. For element a[2] = 2 which has frequency = 2,\n",
    "   NGF element is 1 at position = 6  with frequency\n",
    "   of 3 > 2\n",
    "4. For element a[3] = 3 which has frequency = 1,\n",
    "   NGF element is 2 at position = 5 with frequency\n",
    "   of 2 > 1\n",
    "5. For element a[4] = 4 which has frequency = 1,\n",
    "   NGF element is 2 at position = 5 with frequency\n",
    "   of 2 > 1\n",
    "6. For element a[5] = 2 which has frequency = 2,\n",
    "   NGF element is 1 at position = 6 with frequency\n",
    "   of 3 > 2\n",
    "7. For element a[6] = 1 there is no element to its\n",
    "   right, hence -1\n",
    "   \n",
    "Input : a[] = [1, 1, 1, 2, 2, 2, 2, 11, 3, 3]\n",
    "Output : [2, 2, 2, -1, -1, -1, -1, 3, -1, -1]"
   ]
  },
  {
   "cell_type": "code",
   "execution_count": 59,
   "id": "062a33ce",
   "metadata": {},
   "outputs": [
    {
     "name": "stdout",
     "output_type": "stream",
     "text": [
      "[-1, -1, 1, 2, 2, 1, -1]\n"
     ]
    }
   ],
   "source": [
    "from collections import defaultdict\n",
    "\n",
    "updatedInp = []\n",
    "def main():\n",
    "    v = [1, 1, 2, 3, 4, 2, 1]\n",
    "    n = len(v)\n",
    "    mp = defaultdict(int)\n",
    "    s = []\n",
    "    for x in v:\n",
    "        mp[x] += 1\n",
    "    for i in range(n-1, -1, -1):\n",
    "        s.append(v[i])\n",
    "    for i in range(n):\n",
    "        x = mp[v[i]]\n",
    "        flag = True\n",
    "        ss = list(s)\n",
    "        while ss:\n",
    "            if mp[ss[-1]] > x:\n",
    "                updatedInp.append(ss[-1])\n",
    "                flag = False\n",
    "                break\n",
    "            ss.pop()\n",
    "        if flag:\n",
    "            updatedInp.append(-1)\n",
    "        s.pop()\n",
    "\n",
    "main()\n",
    "print(updatedInp)"
   ]
  },
  {
   "cell_type": "markdown",
   "id": "811eff7b",
   "metadata": {},
   "source": [
    "💡 **Question 2**\n",
    "\n",
    "Given a stack of integers, sort it in ascending order using another temporary stack.\n",
    "\n",
    "**Examples:**\n",
    "Input : [34, 3, 31, 98, 92, 23]\n",
    "Output : [3, 23, 31, 34, 92, 98]\n",
    "\n",
    "Input : [3, 5, 1, 4, 2, 8]\n",
    "Output : [1, 2, 3, 4, 5, 8]"
   ]
  },
  {
   "cell_type": "code",
   "execution_count": 18,
   "id": "6f5c7ce0",
   "metadata": {},
   "outputs": [
    {
     "name": "stdout",
     "output_type": "stream",
     "text": [
      "3 23 31 34 92 98 \n"
     ]
    }
   ],
   "source": [
    "def sortStack(stack):\n",
    "    tmpStack = createStack()\n",
    "    while(isEmpty(stack) == False):\n",
    "        tmp = top(stack)\n",
    "        pop(stack)\n",
    "\n",
    "        while(isEmpty(tmpStack) == False and\n",
    "            int(top(tmpStack)) < int(tmp)):\n",
    "\n",
    "            push(stack,top(tmpStack))\n",
    "            pop(tmpStack)\n",
    "\n",
    "        push(tmpStack,tmp)\n",
    "    return tmpStack\n",
    "\n",
    "def createStack():\n",
    "    stack = []\n",
    "    return stack\n",
    "\n",
    "def push( stack, item ):\n",
    "    stack.append( item )\n",
    "\n",
    "stack = createStack()\n",
    "push( stack, str(34) )\n",
    "push( stack, str(3) )\n",
    "push( stack, str(31) )\n",
    "push( stack, str(98) )\n",
    "push( stack, str(92) )\n",
    "push( stack, str(23) )\n",
    "\n",
    "sortedst = sortStack(stack)\n",
    "prints(sortedst)"
   ]
  },
  {
   "cell_type": "markdown",
   "id": "0cebf284",
   "metadata": {},
   "source": [
    "💡 **Question 3**\n",
    "\n",
    "Given a stack with **push()**, **pop()**, and **empty()** operations, The task is to delete the **middle** element ****of it without using any additional data structure.\n",
    "\n",
    "Input  : Stack[] = [1, 2, 3, 4, 5]\n",
    "\n",
    "Output : Stack[] = [1, 2, 4, 5]\n",
    "\n",
    "Input  : Stack[] = [1, 2, 3, 4, 5, 6]\n",
    "\n",
    "Output : Stack[] = [1, 2, 4, 5, 6]"
   ]
  },
  {
   "cell_type": "code",
   "execution_count": 39,
   "id": "528dde08",
   "metadata": {},
   "outputs": [
    {
     "name": "stdout",
     "output_type": "stream",
     "text": [
      "[1, 2, 4, 5, 6]\n"
     ]
    }
   ],
   "source": [
    "class Stack:\n",
    "    def __init__(self):\n",
    "        self.items = []\n",
    "\n",
    "    def isEmpty(self):\n",
    "        return self.items == []\n",
    "\n",
    "    def push(self, item):\n",
    "        self.items.append(item)\n",
    "\n",
    "    def pop(self):\n",
    "        return self.items.pop()\n",
    "\n",
    "    def peek(self):\n",
    "        return self.items[len(self.items)-1]\n",
    "\n",
    "    def size(self):\n",
    "        return len(self.items)\n",
    "    \n",
    "def deleteMid(st, n, curr) :\n",
    "    if (st.isEmpty() or curr == n) :\n",
    "        return\n",
    "\n",
    "    x = st.peek()\n",
    "    st.pop()\n",
    "\n",
    "    deleteMid(st, n, curr+1)\n",
    "\n",
    "    if (curr != int(n/2)) :\n",
    "        st.push(x)\n",
    "\n",
    "st = Stack()\n",
    "\n",
    "st.push('1')\n",
    "st.push('2')\n",
    "st.push('3')\n",
    "st.push('4')\n",
    "st.push('5')\n",
    "st.push('6')\n",
    "\n",
    "deleteMid(st, st.size(), 0)\n",
    "\n",
    "updatedStack = []\n",
    "while (st.isEmpty() == False) :\n",
    "    p = st.peek()\n",
    "    st.pop()\n",
    "    updatedStack.append(int(p))\n",
    "    \n",
    "print(updatedStack[::-1])"
   ]
  },
  {
   "cell_type": "markdown",
   "id": "ac159276",
   "metadata": {},
   "source": [
    "💡 **Question 4**\n",
    "\n",
    "Given a Queue consisting of first **n** natural numbers (in random order). The task is to check whether the given Queue elements can be arranged in increasing order in another Queue using a stack. The operation allowed are:\n",
    "\n",
    "1. Push and pop elements from the stack\n",
    "2. Pop (Or Dequeue) from the given Queue.\n",
    "3. Push (Or Enqueue) in the another Queue.\n",
    "\n",
    "**Examples :**\n",
    "\n",
    "Input : Queue[] = { 5, 1, 2, 3, 4 } \n",
    "\n",
    "Output : Yes \n",
    "\n",
    "Pop the first element of the given Queue \n",
    "\n",
    "i.e 5. Push 5 into the stack. \n",
    "\n",
    "Now, pop all the elements of the given Queue and push them to second Queue. \n",
    "\n",
    "Now, pop element 5 in the stack and push it to the second Queue.   \n",
    "\n",
    "Input : Queue[] = { 5, 1, 2, 6, 3, 4 } \n",
    "\n",
    "Output : No \n",
    "\n",
    "Push 5 to stack. \n",
    "\n",
    "Pop 1, 2 from given Queue and push it to another Queue. \n",
    "\n",
    "Pop 6 from given Queue and push to stack. \n",
    "\n",
    "Pop 3, 4 from given Queue and push to second Queue. \n",
    "\n",
    "Now, from using any of above operation, we cannot push 5 into the second Queue because it is below the 6 in the stack."
   ]
  },
  {
   "cell_type": "code",
   "execution_count": 44,
   "id": "90057172",
   "metadata": {},
   "outputs": [
    {
     "name": "stdout",
     "output_type": "stream",
     "text": [
      "No\n"
     ]
    }
   ],
   "source": [
    "from queue import Queue\n",
    "def checkSorted(n, q):\n",
    "    st = []\n",
    "    expected = 1\n",
    "    fnt = None\n",
    "\n",
    "    while (not q.empty()):\n",
    "        fnt = q.queue[0]\n",
    "        q.get()\n",
    "\n",
    "        if (fnt == expected):\n",
    "            expected += 1\n",
    "        else:\n",
    "            if (len(st) == 0):\n",
    "                st.append(fnt)\n",
    "            elif (len(st) != 0 and st[-1] < fnt):\n",
    "                return False\n",
    "            else:\n",
    "                st.append(fnt)\n",
    "\n",
    "        while (len(st) != 0 and\n",
    "                st[-1] == expected):\n",
    "            st.pop()\n",
    "            expected += 1\n",
    "\n",
    "    if (expected - 1 == n and len(st) == 0):\n",
    "        return True\n",
    "\n",
    "    return False\n",
    "\n",
    "q = Queue()\n",
    "q.put(5)\n",
    "q.put(1)\n",
    "q.put(2)\n",
    "q.put(6)\n",
    "q.put(3)\n",
    "q.put(4)\n",
    "\n",
    "n = q.qsize()\n",
    "\n",
    "if checkSorted(n, q):\n",
    "    print(\"Yes\")\n",
    "else:\n",
    "    print(\"No\")"
   ]
  },
  {
   "cell_type": "markdown",
   "id": "9775de9c",
   "metadata": {},
   "source": [
    "💡 **Question 5**\n",
    "\n",
    "Given a number , write a program to reverse this number using stack.\n",
    "\n",
    "**Examples:**\n",
    "Input : 365\n",
    "Output : 563\n",
    "\n",
    "Input : 6899\n",
    "Output : 9986"
   ]
  },
  {
   "cell_type": "code",
   "execution_count": 47,
   "id": "d236201b",
   "metadata": {},
   "outputs": [
    {
     "name": "stdout",
     "output_type": "stream",
     "text": [
      "9986\n"
     ]
    }
   ],
   "source": [
    "st = [];\n",
    "def push_digits(number):\n",
    "    while (number != 0):\n",
    "        st.append(number % 10);\n",
    "        number = int(number / 10);\n",
    "\n",
    "def reverse_number(number):\n",
    "    push_digits(number);\n",
    "\n",
    "    reverse = 0;\n",
    "    i = 1;\n",
    "\n",
    "    while (len(st) > 0):\n",
    "        reverse = reverse + (st[len(st) - 1] * i);\n",
    "        st.pop();\n",
    "        i = i * 10;\n",
    "    return reverse;\n",
    "\n",
    "number = 6899\n",
    "print(reverse_number(number));"
   ]
  },
  {
   "cell_type": "markdown",
   "id": "5b2ec5fa",
   "metadata": {},
   "source": [
    "💡 **Question 6**\n",
    "\n",
    "Given an integer k and a **[queue](https://www.geeksforgeeks.org/queue-data-structure/)** of integers, The task is to reverse the order of the first **k** elements of the queue, leaving the other elements in the same relative order.\n",
    "\n",
    "Only following standard operations are allowed on queue.\n",
    "\n",
    "- **enqueue(x) :** Add an item x to rear of queue\n",
    "- **dequeue() :** Remove an item from front of queue\n",
    "- **size() :** Returns number of elements in queue.\n",
    "- **front() :** Finds front item."
   ]
  },
  {
   "cell_type": "code",
   "execution_count": 49,
   "id": "710c6417",
   "metadata": {},
   "outputs": [
    {
     "name": "stdout",
     "output_type": "stream",
     "text": [
      "50 40 30 20 10 60 70 80 90 100 "
     ]
    }
   ],
   "source": [
    "from collections import deque\n",
    "\n",
    "def reverse_first_k(q, k):\n",
    "    solve(q, k)\n",
    "    s = len(q) - k\n",
    "    for _ in range(s):\n",
    "        x = q.popleft()\n",
    "        q.append(x)\n",
    "    return q\n",
    "\n",
    "def solve(q, k):\n",
    "    if k == 0:\n",
    "        return\n",
    "    e = q.popleft()\n",
    "    solve(q, k - 1)\n",
    "    q.append(e)\n",
    "\n",
    "queue = deque([10, 20, 30, 40, 50, 60, 70, 80, 90, 100])\n",
    "k = 5\n",
    "queue = reverse_first_k(queue, k)\n",
    "\n",
    "while queue:\n",
    "    print(queue.popleft(), end=' ')"
   ]
  },
  {
   "cell_type": "markdown",
   "id": "f67892bf",
   "metadata": {},
   "source": [
    "💡 **Question 7**\n",
    "\n",
    "Given a sequence of n strings, the task is to check if any two similar words come together and then destroy each other then print the number of words left in the sequence after this pairwise destruction.\n",
    "\n",
    "**Examples:**\n",
    "\n",
    "Input : ab aa aa bcd ab\n",
    "\n",
    "Output : 3\n",
    "\n",
    "*As aa, aa destroys each other so,*\n",
    "\n",
    "*ab bcd ab is the new sequence.*\n",
    "\n",
    "Input :  tom jerry jerry tom\n",
    "\n",
    "Output : 0\n",
    "\n",
    "*As first both jerry will destroy each other.*\n",
    "\n",
    "*Then sequence will be tom, tom they will also destroy*\n",
    "\n",
    "*each other. So, the final sequence doesn’t contain any*\n",
    "\n",
    "*word.*"
   ]
  },
  {
   "cell_type": "code",
   "execution_count": 51,
   "id": "4e64f091",
   "metadata": {},
   "outputs": [
    {
     "name": "stdout",
     "output_type": "stream",
     "text": [
      "3\n"
     ]
    }
   ],
   "source": [
    "def removeConsecutiveSame(v):\n",
    "    st = []\n",
    "    for i in range(len(v)):\n",
    "        if (len(st) == 0):\n",
    "            st.append(v[i])\n",
    "        else:\n",
    "            Str = st[-1]\n",
    "            if (Str == v[i]):\n",
    "                st.pop()\n",
    "            else:\n",
    "                st.append(v[i])\n",
    "    return len(st)\n",
    "\n",
    "inp = [ \"ab\", \"aa\", \"aa\", \"bcd\", \"ab\"]\n",
    "print(removeConsecutiveSame(inp))"
   ]
  },
  {
   "cell_type": "markdown",
   "id": "c77b25a0",
   "metadata": {},
   "source": [
    "💡 **Question 8**\n",
    "\n",
    "Given an array of integers, the task is to find the maximum absolute difference between the nearest left and the right smaller element of every element in the array.\n",
    "\n",
    "**Note:** If there is no smaller element on right side or left side of any element then we take zero as the smaller element. For example for the leftmost element, the nearest smaller element on the left side is considered as 0. Similarly, for rightmost elements, the smaller element on the right side is considered as 0.\n",
    "\n",
    "**Examples:**\n",
    "Input : arr[] = {2, 1, 8}\n",
    "Output : 1\n",
    "Left smaller  LS[] {0, 0, 1}\n",
    "Right smaller RS[] {1, 0, 0}\n",
    "Maximum Diff of abs(LS[i] - RS[i]) = 1\n",
    "\n",
    "Input  : arr[] = {2, 4, 8, 7, 7, 9, 3}\n",
    "Output : 4\n",
    "Left smaller   LS[] = {0, 2, 4, 4, 4, 7, 2}\n",
    "Right smaller  RS[] = {0, 3, 7, 3, 3, 3, 0}\n",
    "Maximum Diff of abs(LS[i] - RS[i]) = 7 - 3 = 4\n",
    "\n",
    "Input : arr[] = {5, 1, 9, 2, 5, 1, 7}\n",
    "Output : 1"
   ]
  },
  {
   "cell_type": "code",
   "execution_count": 55,
   "id": "8bb6db5d",
   "metadata": {},
   "outputs": [
    {
     "name": "stdout",
     "output_type": "stream",
     "text": [
      "Maximum Diff : 4\n"
     ]
    }
   ],
   "source": [
    "def leftsmaller(arr, n, SE):\n",
    "    sta = []\n",
    "    for i in range(n):\n",
    "        while(sta != [] and sta[len(sta)-1] >= arr[i]):\n",
    "            sta.pop()\n",
    "\n",
    "        if(sta != []):\n",
    "            SE[i]=sta[len(sta)-1]\n",
    "        else:\n",
    "            SE[i]=0\n",
    "\n",
    "        sta.append(arr[i])\n",
    "\n",
    "def findMaxDiff(arr, n):\n",
    "    ls=[0]*n \n",
    "    rs=[0]*n \n",
    "\n",
    "    leftsmaller(arr, n, ls)\n",
    "    leftsmaller(arr[::-1], n, rs)\n",
    "\n",
    "    res = -1\n",
    "    for i in range(n):\n",
    "        res = max(res, abs(ls[i] - rs[n-1-i]))\n",
    "    return res\n",
    "\n",
    "arr = [2, 4, 8, 7, 7, 9, 3] #[2, 1, 8]\n",
    "print(\"Maximum Diff :\", findMaxDiff(arr, len(arr)))"
   ]
  },
  {
   "cell_type": "code",
   "execution_count": null,
   "id": "79462bd7",
   "metadata": {},
   "outputs": [],
   "source": []
  }
 ],
 "metadata": {
  "kernelspec": {
   "display_name": "Python 3 (ipykernel)",
   "language": "python",
   "name": "python3"
  },
  "language_info": {
   "codemirror_mode": {
    "name": "ipython",
    "version": 3
   },
   "file_extension": ".py",
   "mimetype": "text/x-python",
   "name": "python",
   "nbconvert_exporter": "python",
   "pygments_lexer": "ipython3",
   "version": "3.10.9"
  }
 },
 "nbformat": 4,
 "nbformat_minor": 5
}
