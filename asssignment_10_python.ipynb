{
 "cells": [
  {
   "cell_type": "markdown",
   "id": "b868cdd5",
   "metadata": {},
   "source": [
    "<h4 style=\"color:red\">1. What is the role of try and exception block?</h4>\n",
    "\n",
    "The try and except block in Python is used to catch and handle exceptions. Python executes code following the try statement as a “normal” part of the program. The code that follows the except statement is the program’s response to any exceptions in the preceding try clause.\n",
    "\n",
    "The try block used to test a block of code for errors.\n",
    "The except block used for handle the error.\n",
    "\n",
    "<p>Example:    \n",
    "            <pre>\n",
    "            try:\n",
    "                print(x)\n",
    "            except:\n",
    "                print(\"An exception occurred\")\n",
    "            </pre>\n",
    "</p>"
   ]
  },
  {
   "cell_type": "markdown",
   "id": "bd0e2256",
   "metadata": {},
   "source": [
    "<h4 style=\"color:red\">2. What is the syntax for a basic try-except block?</h4>\n",
    "\n",
    "<p> <pre>\n",
    "try:\n",
    "    # code that may cause exception\n",
    "except:\n",
    "    # code to run when exception occurs\n",
    "</pre>\n",
    "\n",
    "    Example:    \n",
    "            <pre>\n",
    "            try:\n",
    "                print(x)\n",
    "            except:\n",
    "                print(\"An exception occurred\")\n",
    "            </pre>\n",
    "</p>"
   ]
  },
  {
   "cell_type": "markdown",
   "id": "cbb3e69f",
   "metadata": {},
   "source": [
    "<h4 style=\"color:red\">3. What happens if an exception occurs inside a try block and there is no matching\n",
    "except block?</h4>\n",
    "\n",
    "If an exception occurs which does not match the exception named in the except clause, it will remain unhandled and the program will terminate."
   ]
  },
  {
   "cell_type": "markdown",
   "id": "e88aa0ae",
   "metadata": {},
   "source": [
    "<h4 style=\"color:red\">4. What is the difference between using a bare except block and specifying a specific\n",
    "exception type?</h4>\n",
    "\n",
    "Bare except clause is going to catch something like the user hitting Ctrl + C means error occurs because of keyboard interrupts or system exits.\n",
    "\n",
    "and Specific exception block will handle only a specific type of error like ValueError, typeError, etc..."
   ]
  },
  {
   "cell_type": "markdown",
   "id": "5a3ac12f",
   "metadata": {},
   "source": [
    "<h4 style=\"color:red\">5. Can you have nested try-except blocks in Python? If yes, then give an example.</h4>\n",
    "\n",
    "We can have nested try-except blocks in Python. In this case, if an exception is raised in the nested try block, the nested except block is used to handle it. In case the nested except is not able to handle it, the outer except blocks are used to handle the exception.\n",
    "\n",
    "<p style=\"font-weight:bold; font-size:17px; color: green;\">\n",
    "Example:\n",
    "</p>\n",
    "\n",
    "   \n",
    "        x = 10\n",
    "        y = 0\n",
    " \n",
    "        try:\n",
    "            print(\"outer try block\")\n",
    "            try:\n",
    "                print(\"nested try block\")\n",
    "                print(x / y)\n",
    "            except TypeError as te:\n",
    "                print(\"nested except block\")\n",
    "                print(te)\n",
    "        except ZeroDivisionError as ze:\n",
    "            print(\"outer except block\")\n",
    "            print(ze)"
   ]
  },
  {
   "cell_type": "markdown",
   "id": "b0e8c106",
   "metadata": {},
   "source": [
    "<h4 style=\"color:red\">6. Can we use multiple exception blocks, if yes then give an example.</h4>\n",
    "\n",
    "For one try block, possible to create multiple Except block.\n",
    "\n",
    "<p style=\"font-weight:bold; color:green; font-size:17px\">Example</p>\n",
    "\n",
    "    a,b=1,0\n",
    "    try:\n",
    "        print(a/b)\n",
    "        print(\"This won't be printed\")\n",
    "        print('10'+10)\n",
    "    except TypeError:\n",
    "        print(\"You added values of incompatible types\")\n",
    "    except ZeroDivisionError:\n",
    "          print(\"You divided by 0\")   \n"
   ]
  },
  {
   "cell_type": "markdown",
   "id": "e9a39264",
   "metadata": {},
   "source": [
    "<h4 style=\"color:red\">7. Write the reason due to which following errors are raised:\n",
    "                       \n",
    "                        a. EOFError\n",
    "                        b. FloatingPointError\n",
    "                        c. IndexError\n",
    "                        d. MemoryError\n",
    "                        e. OverflowError\n",
    "                        f. TabError\n",
    "                        g. ValueError\n",
    "</h4>\n",
    "\n",
    "<span style=\"font-weight:bold; color:orange; font-size:18px;\">a. EOFError</span>  -->  EOFError is short for \"End-of-Line Error.\" This error occurs when Python has reached the end of user input without receiving any input. The reason that EOFError occurs is that Python attempts to print out your input in variable string when no data is given.\n",
    "\n",
    "<span style=\"font-weight:bold; color:orange; font-size:18px;\">b. FloatingPointError</span>  -->  Python FloatingPointError is an error that occurs when a floating-point calculation is attempted that is not supported by the available hardware or software. It occurs when trying to calculate a number that is too large or too small to represent as a floating-point number.\n",
    "\n",
    "<span style=\"font-weight:bold; color:orange; font-size:18px;\">c. IndexError</span>  -->  The IndexError: list index out of range error occurs in Python when an item from a list is attempted to be accessed that is outside the index range of the list.\n",
    "\n",
    "<span style=\"font-weight:bold; color:orange; font-size:18px;\">d. MemoryError</span>  -->  A MemoryError means that the interpreter has run out of memory to allocate to your Python program. This may be due to an issue in the setup of the Python environment or it may be a concern with the code itself loading too much data at the same time.\n",
    "\n",
    "<span style=\"font-weight:bold; color:orange; font-size:18px;\">e. OverflowError</span>  -->  OverflowError occurs when any operations like arithmetic operations or any other variable storing any value above its limit then there occurs an overflow of values that will exceed it’s specified or already defined limit.\n",
    "\n",
    "<span style=\"font-weight:bold; color:orange; font-size:18px;\">f. TabError</span>  -->  \"TabError: inconsistent use of tabs and spaces in indentation\" occurs when we mix tabs and spaces in the same code block.\n",
    "\n",
    "<span style=\"font-weight:bold; color:orange; font-size:18px;\">g. ValueError</span>  -->  ValueError in Python is raised when a user gives an invalid value to a function but is of a valid argument. It usually occurs in mathematical operations that will require a certain kind of value, even when the value is the correct argument.\n"
   ]
  },
  {
   "cell_type": "markdown",
   "id": "d6dbc84e",
   "metadata": {},
   "source": [
    "<h4 style=\"color:red\">8. Write code for the following given scenario and add try-exception block to it.\n",
    "                       \n",
    "                        a. Program to divide two numbers\n",
    "                        b. Program to convert a string to an integer\n",
    "                        c. Program to access an element in a list\n",
    "                        d. Program to handle a specific exception\n",
    "                        e. Program to handle any exception\n",
    "</h4>\n",
    "\n"
   ]
  },
  {
   "cell_type": "code",
   "execution_count": 2,
   "id": "2233dd98",
   "metadata": {},
   "outputs": [
    {
     "name": "stdout",
     "output_type": "stream",
     "text": [
      "Yeah ! Your answer is : 1\n"
     ]
    }
   ],
   "source": [
    "# 8(a)\n",
    "\n",
    "def divide2Num(x, y):\n",
    "    try:\n",
    "        result = x // y\n",
    "        print(\"Yeah ! Your answer is :\", result)\n",
    "    except ZeroDivisionError:\n",
    "        print(\"Sorry ! You are dividing by zero \")\n",
    "\n",
    "divide2Num(3, 2)"
   ]
  },
  {
   "cell_type": "code",
   "execution_count": 3,
   "id": "ea10fcfb",
   "metadata": {},
   "outputs": [
    {
     "name": "stdout",
     "output_type": "stream",
     "text": [
      "Yeah ! Your answer is 13 and data type is <class 'int'>.\n"
     ]
    }
   ],
   "source": [
    "# 8(b)\n",
    "\n",
    "def str2int(x):\n",
    "    try:\n",
    "        result = int(x)\n",
    "        print(f\"Yeah ! Your answer is {result} and data type is {type(result)}.\")\n",
    "    except:\n",
    "        print(f\"Sorry ! You are giving wrong input maybe raising ValueError, please enter only numeric string value\")\n",
    "\n",
    "str2int(\"13\")"
   ]
  },
  {
   "cell_type": "code",
   "execution_count": 6,
   "id": "2e86a328",
   "metadata": {},
   "outputs": [
    {
     "name": "stdout",
     "output_type": "stream",
     "text": [
      "Enter index number: 3\n",
      "7\n",
      "\n",
      "Enter index number: 4\n",
      "Please give position 0 <= position < 3 otherwise indexError will raise.\n"
     ]
    }
   ],
   "source": [
    "# 8(c)\n",
    "\n",
    "def accessEleList(list1):\n",
    "    try:\n",
    "        position = int(input(\"Enter index number: \"))\n",
    "        print(list1[position])\n",
    "    except:  # if any error will raise then this Except block will execute.\n",
    "        print(f\"Please give position 0 <= position < {len(list1)} otherwise indexError will raise.\")\n",
    "\n",
    "l1 = [3,5,6,7]\n",
    "l2 = [1,2,3]\n",
    "accessEleList(l1)\n",
    "print()\n",
    "accessEleList(l2)"
   ]
  },
  {
   "cell_type": "code",
   "execution_count": 8,
   "id": "85ddf599",
   "metadata": {},
   "outputs": [
    {
     "name": "stdout",
     "output_type": "stream",
     "text": [
      "Enter index number: 6\n",
      "Please give position 0 <= position < 4 otherwise indexError will raise.\n"
     ]
    }
   ],
   "source": [
    "# 8(d)\n",
    "\n",
    "def accessEleList(list1):\n",
    "    try:\n",
    "        position = int(input(\"Enter index number: \"))\n",
    "        print(list1[position])\n",
    "    except IndexError:  \n",
    "        '''  here I'm handeling only index out of range error. if any other error occured like ValueError,\n",
    "             ZeroDevisionError other than IndexError then it will not handle.'''\n",
    "        print(f\"Please give position 0 <= position < {len(list1)} otherwise indexError will raise.\")\n",
    "\n",
    "l1 = [3,5,6,7]\n",
    "accessEleList(l1)"
   ]
  },
  {
   "cell_type": "code",
   "execution_count": 9,
   "id": "30c53155",
   "metadata": {},
   "outputs": [
    {
     "name": "stdout",
     "output_type": "stream",
     "text": [
      "Yeah ! Your answer is 13 and data type is <class 'int'>.\n"
     ]
    }
   ],
   "source": [
    "# 8(e)\n",
    "\n",
    "def str2int(x):\n",
    "    try:\n",
    "        result = int(x)\n",
    "        print(f\"Yeah ! Your answer is {result} and data type is {type(result)}.\")\n",
    "    except: # It will handle any type of error like ValueError, IndexError, SyntaxError, etc ...\n",
    "        print(f\"Sorry ! You are giving wrong input maybe raising ValueError, please enter only numeric string value\")\n",
    "\n",
    "str2int(\"13\")"
   ]
  },
  {
   "cell_type": "code",
   "execution_count": null,
   "id": "2be65611",
   "metadata": {},
   "outputs": [],
   "source": []
  }
 ],
 "metadata": {
  "kernelspec": {
   "display_name": "Python 3 (ipykernel)",
   "language": "python",
   "name": "python3"
  },
  "language_info": {
   "codemirror_mode": {
    "name": "ipython",
    "version": 3
   },
   "file_extension": ".py",
   "mimetype": "text/x-python",
   "name": "python",
   "nbconvert_exporter": "python",
   "pygments_lexer": "ipython3",
   "version": "3.10.9"
  }
 },
 "nbformat": 4,
 "nbformat_minor": 5
}
