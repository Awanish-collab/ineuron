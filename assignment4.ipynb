{
 "cells": [
  {
   "cell_type": "markdown",
   "id": "dc3a5cdc",
   "metadata": {},
   "source": [
    "<h2>1.</h2>\n",
    "<h5>[] stands for the empty list value where no item is present.</h5>"
   ]
  },
  {
   "cell_type": "markdown",
   "id": "94811fd0",
   "metadata": {},
   "source": [
    "<h2>2.</h2>\n",
    "<pre style=\"font-size:14px; font-weight:bold;\">\n",
    "As given in the question spam = [2,4,6,8]; \n",
    "We have to replace 3rd element with “hello”.Since the indexing of the elements start with 0 therefore the 3rd element is having the index no. 2. \n",
    "That implies spam[2] = ‘hello’ \n",
    "That gives you the output spam= [2,4, ‘hello’,8] \n",
    "</pre>"
   ]
  },
  {
   "cell_type": "markdown",
   "id": "4b9d941b",
   "metadata": {},
   "source": [
    "<h2>3.</h2>\n",
    "<pre style=\"font-size:14px; font-weight:bold;\">\n",
    "spam= [‘a’, ‘b’, ‘c’, ‘d’] \n",
    "In spam[int(int(‘3’*2)/11)]  \n",
    "spam[int(int(33/11))]  \n",
    "spam[int(3)] \n",
    "spam[3] = ‘d’  \n",
    "{the indexing of the elements of spam starts with 0 therefore in indexing no 3 ‘d’ resides} \n",
    "</pre>"
   ]
  },
  {
   "cell_type": "markdown",
   "id": "6ce24ad8",
   "metadata": {},
   "source": [
    "<h2>4.</h2>\n",
    "<pre style=\"font-size:14px; font-weight:bold;\">\n",
    "spam= [‘a’, ‘b’, ‘c’, ‘d’] \n",
    "Spam[-1] = ‘d’  (Negative indexes count from the end) \n",
    "</pre>"
   ]
  },
  {
   "cell_type": "markdown",
   "id": "b64b17b5",
   "metadata": {},
   "source": [
    "<h2>5.</h2>\n",
    "<pre style=\"font-size:14px; font-weight:bold;\">\n",
    "Spam[:2] -> will gives you an output [‘a’, ‘b’] \n",
    "Here it is using slicing concept. \n",
    "</pre>"
   ]
  },
  {
   "cell_type": "markdown",
   "id": "5726427d",
   "metadata": {},
   "source": [
    "<h2>6.</h2>\n",
    "<pre style=\"font-size:14px; font-weight:bold;\">\n",
    "bacon = [3.14,’cat’,11,’cat’,True] \n",
    "bacon.index(‘cat’) =1 \n",
    "Since the indexing of the elements start with 0 therefore the element ‘cat’ is having the index no. 1. \n",
    "</pre>"
   ]
  },
  {
   "cell_type": "markdown",
   "id": "4ad15c09",
   "metadata": {},
   "source": [
    "<h2>7.</h2>\n",
    "<pre style=\"font-size:14px; font-weight:bold;\">\n",
    "[3.14, 'cat', 11, 'cat', True, 99] \n",
    "</pre>"
   ]
  },
  {
   "cell_type": "markdown",
   "id": "6ac909d1",
   "metadata": {},
   "source": [
    "<h2>8.</h2>\n",
    "<pre style=\"font-size:14px; font-weight:bold;\">\n",
    "[3.14, 11, 'cat', True] \n",
    "</pre>"
   ]
  },
  {
   "cell_type": "markdown",
   "id": "0b8ee314",
   "metadata": {},
   "source": [
    "<h2>9.</h2>\n",
    "<pre style=\"font-size:14px; font-weight:bold;\">\n",
    "The operator for list concatenation is +, while the operator for replication is *. (This is the same as for strings.) \n",
    "</pre>"
   ]
  },
  {
   "cell_type": "markdown",
   "id": "efdc658c",
   "metadata": {},
   "source": [
    "<h2>10.</h2>\n",
    "<pre style=\"font-size:14px; font-weight:bold;\">\n",
    "While append() will add values only to the end of a list, insert() can add them anywhere in the list.\n",
    "</pre>"
   ]
  },
  {
   "cell_type": "markdown",
   "id": "7c7f7efe",
   "metadata": {},
   "source": [
    "<h2>11.</h2>\n",
    "<pre style=\"font-size:14px; font-weight:bold;\">\n",
    "The del statement and the remove() method are two ways to remove values from a list. pop() method also used for deleting the element from list. \n",
    "</pre>"
   ]
  },
  {
   "cell_type": "markdown",
   "id": "647c6295",
   "metadata": {},
   "source": [
    "<h2>12.</h2>\n",
    "<pre style=\"font-size:14px; font-weight:bold;\">\n",
    "Both lists and strings can be passed to len(), have indexes and slices, be used in for loops, be concatenated or        replicated, and be used with the in and not in operators. \n",
    "</pre>"
   ]
  },
  {
   "cell_type": "markdown",
   "id": "4742b6b0",
   "metadata": {},
   "source": [
    "<h2>13.</h2>\n",
    "<pre style=\"font-size:14px; font-weight:bold;\">\n",
    "Lists are mutable, they can have values added, removed, or changed. Tuples are immutable; they cannot be changed at all. Also, tuples are written using parentheses ( ), while lists use the square brackets [ ]. To create LIST we can also use list() method and for tuples we can also use tuple() method.\n",
    "</pre>"
   ]
  },
  {
   "cell_type": "markdown",
   "id": "50956fc8",
   "metadata": {},
   "source": [
    "<h2>14.</h2>\n",
    "<pre style=\"font-size:14px; font-weight:bold;\">\n",
    "(42,) ->The trailing comma is mandatory. otherwise python interpreter takes this as an integer datatype.\n",
    "</pre>"
   ]
  },
  {
   "cell_type": "markdown",
   "id": "a9f05e76",
   "metadata": {},
   "source": [
    "<h2>15.</h2>\n",
    "<pre style=\"font-size:14px; font-weight:bold;\">\n",
    "Tuple to list use list() method,\n",
    "List to tuple use tuple() method.\n",
    "</pre>"
   ]
  },
  {
   "cell_type": "markdown",
   "id": "5ae07e7c",
   "metadata": {},
   "source": [
    "<h2>16.</h2>\n",
    "<pre style=\"font-size:14px; font-weight:bold;\">\n",
    "They contain references to list. \n",
    "</pre>"
   ]
  },
  {
   "cell_type": "markdown",
   "id": "60338f79",
   "metadata": {},
   "source": [
    "<h2>17.</h2>\n",
    "<pre style=\"font-size:14px; font-weight:bold;\">\n",
    "The copy.copy() function will do a shallow copy of a list, while the copy.deepcopy() function will do a deep copy of a list. That is, only copy.deepcopy() will duplicate any lists inside the list \n",
    "</pre>"
   ]
  }
 ],
 "metadata": {
  "kernelspec": {
   "display_name": "Python 3 (ipykernel)",
   "language": "python",
   "name": "python3"
  },
  "language_info": {
   "codemirror_mode": {
    "name": "ipython",
    "version": 3
   },
   "file_extension": ".py",
   "mimetype": "text/x-python",
   "name": "python",
   "nbconvert_exporter": "python",
   "pygments_lexer": "ipython3",
   "version": "3.10.9"
  }
 },
 "nbformat": 4,
 "nbformat_minor": 5
}
