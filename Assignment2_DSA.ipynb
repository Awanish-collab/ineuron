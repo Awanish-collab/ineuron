{
 "cells": [
  {
   "cell_type": "markdown",
   "id": "2c5782e7",
   "metadata": {},
   "source": [
    "💡 **Question 1**\n",
    "Given an integer array nums of 2n integers, group these integers into n pairs (a1, b1), (a2, b2),..., (an, bn) such that the sum of min(ai, bi) for all i is maximized. Return the maximized sum.\n",
    "\n",
    "**Example 1:**\n",
    "Input: nums = [1,4,3,2]\n",
    "Output: 4\n",
    "\n",
    "**Explanation:** All possible pairings (ignoring the ordering of elements) are:\n",
    "\n",
    "1. (1, 4), (2, 3) -> min(1, 4) + min(2, 3) = 1 + 2 = 3\n",
    "2. (1, 3), (2, 4) -> min(1, 3) + min(2, 4) = 1 + 2 = 3\n",
    "3. (1, 2), (3, 4) -> min(1, 2) + min(3, 4) = 1 + 3 = 4\n",
    "So the maximum possible sum is 4"
   ]
  },
  {
   "cell_type": "code",
   "execution_count": 6,
   "id": "9f55baad",
   "metadata": {},
   "outputs": [
    {
     "data": {
      "text/plain": [
       "4"
      ]
     },
     "execution_count": 6,
     "metadata": {},
     "output_type": "execute_result"
    }
   ],
   "source": [
    "def maxPossibleSum(list1):\n",
    "    list1.sort()\n",
    "    s = 0\n",
    "    for i in range(0,len(list1),2):\n",
    "        s += min(list1[i],list1[i+1])\n",
    "    return s\n",
    "\n",
    "list1 = [1,4,3,2]\n",
    "maxPossibleSum(list1)"
   ]
  },
  {
   "cell_type": "markdown",
   "id": "7c018306",
   "metadata": {},
   "source": [
    "Question 2\n",
    "Alice has n candies, where the ith candy is of type candyType[i]. Alice noticed that she started to gain weight, so she visited a doctor. \n",
    "\n",
    "The doctor advised Alice to only eat n / 2 of the candies she has (n is always even). Alice likes her candies very much, and she wants to eat the maximum number of different types of candies while still following the doctor's advice. \n",
    "\n",
    "Given the integer array candyType of length n, return the maximum number of different types of candies she can eat if she only eats n / 2 of them.\n",
    "\n",
    "Example 1:\n",
    "Input: candyType = [1,1,2,2,3,3]\n",
    "Output: 3\n",
    "\n",
    "Explanation: Alice can only eat 6 / 2 = 3 candies. Since there are only 3 types, she can eat one of each type."
   ]
  },
  {
   "cell_type": "code",
   "execution_count": 10,
   "id": "9a9782b7",
   "metadata": {},
   "outputs": [
    {
     "data": {
      "text/plain": [
       "3"
      ]
     },
     "execution_count": 10,
     "metadata": {},
     "output_type": "execute_result"
    }
   ],
   "source": [
    "def d_Candies(candyType):\n",
    "    half_candy = len(candyType)//2\n",
    "    distinct_candy = len(set(candyType))\n",
    "    return min(half_candy,distinct_candy)\n",
    "\n",
    "d_Candies([1,1,2,2,3,3])"
   ]
  },
  {
   "cell_type": "markdown",
   "id": "ccf34fec",
   "metadata": {},
   "source": [
    "Question 3\n",
    "We define a harmonious array as an array where the difference between its maximum value\n",
    "and its minimum value is exactly 1.\n",
    "\n",
    "Given an integer array nums, return the length of its longest harmonious subsequence\n",
    "among all its possible subsequences.\n",
    "\n",
    "A subsequence of an array is a sequence that can be derived from the array by deleting some or no elements without changing the order of the remaining elements.\n",
    "\n",
    "Example 1:\n",
    "Input: nums = [1,3,2,2,5,2,3,7]\n",
    "Output: 5\n",
    "\n",
    "Explanation: The longest harmonious subsequence is [3,2,2,2,3]."
   ]
  },
  {
   "cell_type": "code",
   "execution_count": 22,
   "id": "41196833",
   "metadata": {},
   "outputs": [
    {
     "data": {
      "text/plain": [
       "5"
      ]
     },
     "execution_count": 22,
     "metadata": {},
     "output_type": "execute_result"
    }
   ],
   "source": [
    "def findHarmoniousNum(array_list):\n",
    "    freq = {}\n",
    "    for num in array_list:\n",
    "        freq[num] = freq.get(num, 0) + 1\n",
    "    max_length = 0\n",
    "    for num in freq:\n",
    "        if num + 1 in freq:\n",
    "            max_length = max(max_length, freq[num] + freq[num + 1])\n",
    "    return max_length\n",
    "\n",
    "findHarmoniousNum([1,3,2,2,5,2,3,7])"
   ]
  },
  {
   "cell_type": "markdown",
   "id": "2cff33d1",
   "metadata": {},
   "source": [
    "Question 4\n",
    "You have a long flowerbed in which some of the plots are planted, and some are not.\n",
    "However, flowers cannot be planted in adjacent plots.\n",
    "Given an integer array flowerbed containing 0's and 1's, where 0 means empty and 1 means not empty, and an integer n, return true if n new flowers can be planted in the flowerbed without violating the no-adjacent-flowers rule and false otherwise.\n",
    "\n",
    "Example 1:\n",
    "Input: flowerbed = [1,0,0,0,1], n = 1\n",
    "Output: true"
   ]
  },
  {
   "cell_type": "code",
   "execution_count": 23,
   "id": "1ab29d15",
   "metadata": {},
   "outputs": [
    {
     "data": {
      "text/plain": [
       "True"
      ]
     },
     "execution_count": 23,
     "metadata": {},
     "output_type": "execute_result"
    }
   ],
   "source": [
    "def canPlaceFlowers(flowerbed, n):\n",
    "    if n == 0:\n",
    "        return True\n",
    "\n",
    "    count = 0\n",
    "    for i in range(len(flowerbed)):\n",
    "        if flowerbed[i] == 0:\n",
    "            if i == 0 or flowerbed[i-1] == 0:\n",
    "                if i == len(flowerbed)-1 or flowerbed[i+1] == 0:\n",
    "                    count += 1\n",
    "                    flowerbed[i] = 1\n",
    "    return count >= n\n",
    "\n",
    "flowerbed = [1,0,0,0,1]\n",
    "adja_place = 1\n",
    "canPlaceFlowers(flowerbed,adja_place)"
   ]
  },
  {
   "cell_type": "markdown",
   "id": "8c965491",
   "metadata": {},
   "source": [
    "Question 5\n",
    "Given an integer array nums, find three numbers whose product is maximum and return the maximum product.\n",
    "\n",
    "Example 1:\n",
    "Input: nums = [1,2,3]\n",
    "Output: 6"
   ]
  },
  {
   "cell_type": "code",
   "execution_count": 26,
   "id": "e27ef8b5",
   "metadata": {},
   "outputs": [
    {
     "data": {
      "text/plain": [
       "24"
      ]
     },
     "execution_count": 26,
     "metadata": {},
     "output_type": "execute_result"
    }
   ],
   "source": [
    "def max_prod(array_nums):\n",
    "    array_nums.sort()\n",
    "    return max(array_nums[-1]*array_nums[-2]*array_nums[-3],array_nums[0]*array_nums[1]*array_nums[-1])\n",
    "\n",
    "array_nums = [1,2,3,4]  #[1,2,3]\n",
    "max_prod(array_nums)"
   ]
  },
  {
   "cell_type": "markdown",
   "id": "fdbf1e7f",
   "metadata": {},
   "source": [
    "Question 6\n",
    "Given an array of integers nums which is sorted in ascending order, and an integer target,\n",
    "write a function to search target in nums. If target exists, then return its index. Otherwise,\n",
    "return -1.\n",
    "\n",
    "You must write an algorithm with O(log n) runtime complexity.\n",
    "\n",
    "Input: nums = [-1,0,3,5,9,12], target = 9\n",
    "Output: 4\n",
    "\n",
    "Explanation: 9 exists in nums and its index is 4"
   ]
  },
  {
   "cell_type": "code",
   "execution_count": 29,
   "id": "65f25b82",
   "metadata": {},
   "outputs": [
    {
     "data": {
      "text/plain": [
       "4"
      ]
     },
     "execution_count": 29,
     "metadata": {},
     "output_type": "execute_result"
    }
   ],
   "source": [
    "def searchTarget(nums, target):\n",
    "        left = 0\n",
    "        right = len(nums) - 1\n",
    "        if len(nums) == 1 and nums[0] == target:\n",
    "            return 0\n",
    "        \n",
    "        while left <= right:\n",
    "            mid = (left + right)//2\n",
    "            if nums[mid] == target:\n",
    "                return mid\n",
    "            elif nums[mid] > target:\n",
    "                right = mid - 1\n",
    "            else:\n",
    "                left = mid + 1\n",
    "        \n",
    "        return -1\n",
    "    \n",
    "searchTarget([-1,0,3,5,9,12],9)"
   ]
  },
  {
   "cell_type": "markdown",
   "id": "5ce68e14",
   "metadata": {},
   "source": [
    "Question 7\n",
    "An array is monotonic if it is either monotone increasing or monotone decreasing.\n",
    "\n",
    "An array nums is monotone increasing if for all i <= j, nums[i] <= nums[j]. An array nums is\n",
    "monotone decreasing if for all i <= j, nums[i] >= nums[j].\n",
    "\n",
    "Given an integer array nums, return true if the given array is monotonic, or false otherwise.\n",
    "\n",
    "Example 1:\n",
    "Input: nums = [1,2,2,3]\n",
    "Output: true"
   ]
  },
  {
   "cell_type": "code",
   "execution_count": 32,
   "id": "1d16541f",
   "metadata": {},
   "outputs": [
    {
     "data": {
      "text/plain": [
       "True"
      ]
     },
     "execution_count": 32,
     "metadata": {},
     "output_type": "execute_result"
    }
   ],
   "source": [
    "def isMonotonic(arr_nums):\n",
    "        if arr_nums[-1]> arr_nums[0]:\n",
    "            for i in range(len(arr_nums)-1):\n",
    "                if arr_nums[i+1] < arr_nums[i]:\n",
    "                    return False\n",
    "            return True\n",
    "        elif arr_nums[-1]<arr_nums[0]:\n",
    "            for i in range(len(arr_nums)-1):\n",
    "                if arr_nums[i+1] > arr_nums[i]:\n",
    "                    return False\n",
    "            return True\n",
    "        else:\n",
    "            for i in range(len(arr_nums)-1):\n",
    "                if arr_nums[i+1] != arr_nums[i]:\n",
    "                    return False\n",
    "            return True\n",
    "        \n",
    "arr_nums = [1,2,2,3]\n",
    "isMonotonic(arr_nums)"
   ]
  },
  {
   "cell_type": "markdown",
   "id": "90b9c0ba",
   "metadata": {},
   "source": [
    "Question 8\n",
    "You are given an integer array nums and an integer k.\n",
    "\n",
    "In one operation, you can choose any index i where 0 <= i < nums.length and change nums[i] to nums[i] + x where x is an integer from the range [-k, k]. You can apply this operation at most once for each index i.\n",
    "\n",
    "The score of nums is the difference between the maximum and minimum elements in nums.\n",
    "\n",
    "Return the minimum score of nums after applying the mentioned operation at most once for each index in it.\n",
    "\n",
    "Example 1:\n",
    "Input: nums = [1], k = 0\n",
    "Output: 0\n",
    "\n",
    "Explanation: The score is max(nums) - min(nums) = 1 - 1 = 0."
   ]
  },
  {
   "cell_type": "code",
   "execution_count": 35,
   "id": "f31b471f",
   "metadata": {},
   "outputs": [
    {
     "data": {
      "text/plain": [
       "0"
      ]
     },
     "execution_count": 35,
     "metadata": {},
     "output_type": "execute_result"
    }
   ],
   "source": [
    "def smallestRangeI(arrnums,k):\n",
    "    x=max(arrnums)\n",
    "    y=min(arrnums)\n",
    "    return max(0,(x-k)-(y+k))\n",
    "\n",
    "arrnums = [1]\n",
    "smallestRangeI(arrnums,0)"
   ]
  }
 ],
 "metadata": {
  "kernelspec": {
   "display_name": "Python 3 (ipykernel)",
   "language": "python",
   "name": "python3"
  },
  "language_info": {
   "codemirror_mode": {
    "name": "ipython",
    "version": 3
   },
   "file_extension": ".py",
   "mimetype": "text/x-python",
   "name": "python",
   "nbconvert_exporter": "python",
   "pygments_lexer": "ipython3",
   "version": "3.10.9"
  }
 },
 "nbformat": 4,
 "nbformat_minor": 5
}
