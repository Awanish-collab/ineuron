{
 "cells": [
  {
   "cell_type": "markdown",
   "id": "8c8fcfbe",
   "metadata": {},
   "source": [
    "💡 **Q1.** Given an array of integers nums and an integer target, return indices of the two numbers such that they add up to target.\n",
    "\n",
    "You may assume that each input would have exactly one solution, and you may not use the same element twice.\n",
    "\n",
    "You can return the answer in any order.\n",
    "\n",
    "**Example:**\n",
    "Input: nums = [2,7,11,15], target = 9\n",
    "Output0 [0,1]\n",
    "\n",
    "**Explanation:** Because nums[0] + nums[1] == 9, we return [0, 1]"
   ]
  },
  {
   "cell_type": "code",
   "execution_count": 10,
   "id": "bd6f0c88",
   "metadata": {},
   "outputs": [
    {
     "data": {
      "text/plain": [
       "(0, 1)"
      ]
     },
     "execution_count": 10,
     "metadata": {},
     "output_type": "execute_result"
    }
   ],
   "source": [
    "def twoNumIndexSum(num_arr, target):\n",
    "    a = 0\n",
    "    for i in range(len(num_arr)):\n",
    "        p = target - num_arr[i]\n",
    "        if p in num_arr:\n",
    "            a = num_arr.index(p)\n",
    "            if a == i:\n",
    "                continue\n",
    "            break\n",
    "    return i,a\n",
    "\n",
    "twoNumIndexSum([2,7,11,15],9)"
   ]
  },
  {
   "cell_type": "markdown",
   "id": "94f3402d",
   "metadata": {},
   "source": [
    "\n",
    "💡 **Q2.** Given an integer array nums and an integer val, remove all occurrences of val in nums in-place. The order of the elements may be changed. Then return the number of elements in nums which are not equal to val.\n",
    "\n",
    "Consider the number of elements in nums which are not equal to val be k, to get accepted, you need to do the following things:\n",
    "\n",
    "- Change the array nums such that the first k elements of nums contain the elements which are not equal to val. The remaining elements of nums are not important as well as the size of nums.\n",
    "- Return k.\n",
    "\n",
    "**Example :**\n",
    "Input: nums = [3,2,2,3], val = 3\n",
    "Output: 2, nums = [2,2,_*,_*]\n",
    "\n",
    "**Explanation:** Your function should return k = 2, with the first two elements of nums being 2. It does not matter what you leave beyond the returned k (hence they are underscores)\n"
   ]
  },
  {
   "cell_type": "code",
   "execution_count": 16,
   "id": "670fcb8a",
   "metadata": {},
   "outputs": [
    {
     "data": {
      "text/plain": [
       "[2, 2, '*', '*']"
      ]
     },
     "execution_count": 16,
     "metadata": {},
     "output_type": "execute_result"
    }
   ],
   "source": [
    "def removeAllRepeatedKElement(num_arr1, val):\n",
    "    while val in num_arr1:\n",
    "        num_arr1.remove(val)\n",
    "        num_arr1.append('*')\n",
    "    return num_arr1\n",
    "        \n",
    "removeAllRepeatedKElement([3,2,2,3],3)"
   ]
  },
  {
   "cell_type": "markdown",
   "id": "139a3a1c",
   "metadata": {},
   "source": [
    "💡 **Q3.** Given a sorted array of distinct integers and a target value, return the index if the target is found. If not, return the index where it would be if it were inserted in order.\n",
    "\n",
    "You must write an algorithm with O(log n) runtime complexity.\n",
    "\n",
    "**Example 1:**\n",
    "Input: nums = [1,3,5,6], target = 5\n",
    "\n",
    "Output: 2"
   ]
  },
  {
   "cell_type": "code",
   "execution_count": 23,
   "id": "699f73b0",
   "metadata": {},
   "outputs": [
    {
     "data": {
      "text/plain": [
       "2"
      ]
     },
     "execution_count": 23,
     "metadata": {},
     "output_type": "execute_result"
    }
   ],
   "source": [
    "def insertSearchValue(sorted_arr, targetVal):\n",
    "        start = 0\n",
    "        end = len(sorted_arr) - 1\n",
    "        ans = len(sorted_arr)\n",
    "        \n",
    "        while start <= end:\n",
    "            middle = (start + end) // 2\n",
    "            \n",
    "            if sorted_arr[middle] == targetVal:\n",
    "                return middle\n",
    "            elif sorted_arr[middle] < targetVal:\n",
    "                start = middle + 1\n",
    "            else:\n",
    "                ans = middle\n",
    "                end = middle - 1\n",
    "            \n",
    "        return ans\n",
    "    \n",
    "insertSearchValue([1,3,5,6],5)"
   ]
  },
  {
   "cell_type": "markdown",
   "id": "6997b25b",
   "metadata": {},
   "source": [
    "💡 **Q4.** You are given a large integer represented as an integer array digits, where each digits[i] is the ith digit of the integer. The digits are ordered from most significant to least significant in left-to-right order. The large integer does not contain any leading 0's.\n",
    "\n",
    "Increment the large integer by one and return the resulting array of digits.\n",
    "\n",
    "**Example 1:**\n",
    "Input: digits = [1,2,3]\n",
    "Output: [1,2,4]\n",
    "\n",
    "**Explanation:** The array represents the integer 123.\n",
    "\n",
    "Incrementing by one gives 123 + 1 = 124.\n",
    "Thus, the result should be [1,2,4]."
   ]
  },
  {
   "cell_type": "code",
   "execution_count": 48,
   "id": "f68a8b34",
   "metadata": {},
   "outputs": [
    {
     "data": {
      "text/plain": [
       "[1, 2, 4]"
      ]
     },
     "execution_count": 48,
     "metadata": {},
     "output_type": "execute_result"
    }
   ],
   "source": [
    "def incrementingArrayNumber(arr):\n",
    "    arr_increment = str(int(\"\".join(map(str, arr))) + 1)\n",
    "    return list(map(int, arr_increment))\n",
    "\n",
    "incrementingArrayNumber([1,2,3])\n",
    "#incrementingArrayNumber([9])"
   ]
  },
  {
   "cell_type": "markdown",
   "id": "0fe6a308",
   "metadata": {},
   "source": [
    "💡 **Q5.** You are given two integer arrays nums1 and nums2, sorted in non-decreasing order, and two integers m and n, representing the number of elements in nums1 and nums2 respectively.\n",
    "\n",
    "Merge nums1 and nums2 into a single array sorted in non-decreasing order.\n",
    "\n",
    "The final sorted array should not be returned by the function, but instead be stored inside the array nums1. To accommodate this, nums1 has a length of m + n, where the first m elements denote the elements that should be merged, and the last n elements are set to 0 and should be ignored. nums2 has a length of n.\n",
    "\n",
    "**Example 1:**\n",
    "Input: nums1 = [1,2,3,0,0,0], m = 3, nums2 = [2,5,6], n = 3\n",
    "Output: [1,2,2,3,5,6]\n",
    "\n",
    "**Explanation:** The arrays we are merging are [1,2,3] and [2,5,6].\n",
    "The result of the merge is [1,2,2,3,5,6] with the underlined elements coming from nums1."
   ]
  },
  {
   "cell_type": "code",
   "execution_count": 56,
   "id": "49df3c7a",
   "metadata": {},
   "outputs": [
    {
     "data": {
      "text/plain": [
       "[1, 2, 2, 3, 5, 6]"
      ]
     },
     "execution_count": 56,
     "metadata": {},
     "output_type": "execute_result"
    }
   ],
   "source": [
    "def merging2array(num_arr2, m, num_arr3, n):\n",
    "        p1 = m - 1\n",
    "        p2 = n - 1\n",
    "        p = m + n - 1\n",
    "\n",
    "        while p1 >= 0 and p2 >= 0:\n",
    "            if num_arr2[p1] < num_arr3[p2]:\n",
    "                num_arr2[p] = num_arr3[p2]\n",
    "                p2 -= 1\n",
    "            else:\n",
    "                num_arr2[p] = num_arr2[p1]\n",
    "                p1 -= 1\n",
    "            p -= 1\n",
    "\n",
    "        num_arr2[:p2 + 1] = num_arr3[:p2 + 1]\n",
    "        \n",
    "        return num_arr2\n",
    "        \n",
    "merging2array([1,2,3,0,0,0],3,[2,5,6],3)"
   ]
  },
  {
   "cell_type": "markdown",
   "id": "a66d43fd",
   "metadata": {},
   "source": [
    "💡 **Q6.** Given an integer array nums, return true if any value appears at least twice in the array, and return false if every element is distinct.\n",
    "\n",
    "**Example 1:**\n",
    "Input: nums = [1,2,3,1]\n",
    "\n",
    "Output: true"
   ]
  },
  {
   "cell_type": "code",
   "execution_count": 62,
   "id": "b1c92b84",
   "metadata": {},
   "outputs": [
    {
     "name": "stdout",
     "output_type": "stream",
     "text": [
      "True\n"
     ]
    }
   ],
   "source": [
    "def num_arr5(inp_arr):\n",
    "    arr_length = len(inp_arr)\n",
    "    len_arr_set = len(set(inp_arr))\n",
    "    if arr_length == len_arr_set:\n",
    "        return False\n",
    "    else:\n",
    "        return True\n",
    "\n",
    "inp_arr = [1,2,3,1]\n",
    "print(num_arr5(inp_arr))"
   ]
  },
  {
   "cell_type": "markdown",
   "id": "52687d9e",
   "metadata": {},
   "source": [
    "💡 **Q7.** Given an integer array nums, move all 0's to the end of it while maintaining the relative order of the nonzero elements.\n",
    "\n",
    "Note that you must do this in-place without making a copy of the array.\n",
    "\n",
    "**Example 1:**\n",
    "Input: nums = [0,1,0,3,12]\n",
    "Output: [1,3,12,0,0]"
   ]
  },
  {
   "cell_type": "code",
   "execution_count": 67,
   "id": "ec87a3b3",
   "metadata": {},
   "outputs": [
    {
     "data": {
      "text/plain": [
       "[1, 3, 12, 0, 0]"
      ]
     },
     "execution_count": 67,
     "metadata": {},
     "output_type": "execute_result"
    }
   ],
   "source": [
    "def moveZeroestoEnd(nums_array):\n",
    "    end = 0\n",
    "    for start in range(len(nums_array)):\n",
    "        if nums_array[start] != 0 and nums_array[end] == 0:\n",
    "            nums_array[end], nums_array[start] = nums_array[start], nums_array[end]\n",
    "\n",
    "        if nums_array[end] != 0:\n",
    "            end += 1\n",
    "    return nums_array\n",
    "\n",
    "moveZeroes([0,1,0,3,12])"
   ]
  },
  {
   "cell_type": "markdown",
   "id": "acba4125",
   "metadata": {},
   "source": [
    "💡 **Q8.** You have a set of integers s, which originally contains all the numbers from 1 to n. Unfortunately, due to some error, one of the numbers in s got duplicated to another number in the set, which results in repetition of one number and loss of another number.\n",
    "\n",
    "You are given an integer array nums representing the data status of this set after the error.\n",
    "\n",
    "Find the number that occurs twice and the number that is missing and return them in the form of an array.\n",
    "\n",
    "**Example 1:**\n",
    "Input: nums = [1,2,2,4]\n",
    "Output: [2,3]"
   ]
  },
  {
   "cell_type": "code",
   "execution_count": 71,
   "id": "42320242",
   "metadata": {},
   "outputs": [
    {
     "data": {
      "text/plain": [
       "[2, 3]"
      ]
     },
     "execution_count": 71,
     "metadata": {},
     "output_type": "execute_result"
    }
   ],
   "source": [
    "def getMissingNums(num_array1):\n",
    "    n = len(num_array1)\n",
    "    true_sum = n*(n+1)//2\n",
    "    actual_sum = sum(num_array1)\n",
    "    set_sum = sum(set(num_array1))\n",
    "    return [actual_sum - set_sum, true_sum - set_sum]\n",
    "\n",
    "getMissingNums([1,2,2,4])"
   ]
  },
  {
   "cell_type": "code",
   "execution_count": null,
   "id": "38a51654",
   "metadata": {},
   "outputs": [],
   "source": []
  }
 ],
 "metadata": {
  "kernelspec": {
   "display_name": "Python 3 (ipykernel)",
   "language": "python",
   "name": "python3"
  },
  "language_info": {
   "codemirror_mode": {
    "name": "ipython",
    "version": 3
   },
   "file_extension": ".py",
   "mimetype": "text/x-python",
   "name": "python",
   "nbconvert_exporter": "python",
   "pygments_lexer": "ipython3",
   "version": "3.10.9"
  }
 },
 "nbformat": 4,
 "nbformat_minor": 5
}
