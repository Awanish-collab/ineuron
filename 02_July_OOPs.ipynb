{
 "cells": [
  {
   "cell_type": "markdown",
   "id": "5e274f75",
   "metadata": {},
   "source": [
    "<b style=\"color:red;\">Que [1]. Explain what inheritance is in object-oriented programming and why it is used.</b>"
   ]
  },
  {
   "cell_type": "markdown",
   "id": "1399bc24",
   "metadata": {},
   "source": [
    "Inheritance is defined as a mechanism where the sub or child class inherits the properties and characteristics of the super class or other derived classes. It also supports additional features of extracting properties from the child class and using it into other derived classes.\n",
    "\n",
    "programmers need not recursively create the data members and data functions in the same code. They create and define the data member and function once in the superclass, and they make the derived class inherit all attributes and properties of data members and functions of its superclass. Therefore supports effective dynamic programming making work easier."
   ]
  },
  {
   "cell_type": "markdown",
   "id": "3b82c943",
   "metadata": {},
   "source": [
    "<b style=\"color:red;\">Que [2]. Discuss the concept of single inheritance and multiple inheritance, highlighting their\n",
    "differences and advantages.</b>"
   ]
  },
  {
   "cell_type": "markdown",
   "id": "b32f8d6d",
   "metadata": {},
   "source": [
    "<b>Single Inheritance:</b> \n",
    "<pre>\n",
    "Into this, child class can only inherit the behaviour of the parent class.\n",
    "\n",
    "Example:\n",
    "class A:\n",
    "    pass\n",
    "    \n",
    "class B(A):  # class B is showing single/simple inheritance\n",
    "    pass\n",
    "</pre>\n",
    "\n",
    "<b>Multiple Inheritance:</b> \n",
    "<pre>\n",
    "Into this, one class can inherit more than 1 class behaviour.\n",
    "\n",
    "Example:\n",
    "class A:\n",
    "    pass\n",
    "    \n",
    "class B:\n",
    "    pass\n",
    "    \n",
    "class C(A, B):  # class C is showing multiple inheritance\n",
    "    pass\n",
    "</pre>"
   ]
  },
  {
   "cell_type": "markdown",
   "id": "8b519f94",
   "metadata": {},
   "source": [
    "<b style=\"color:red;\">Que [3]. Explain the terms \"base class\" and \"derived class\" in the context of inheritance.</b>"
   ]
  },
  {
   "cell_type": "markdown",
   "id": "2b9e83fd",
   "metadata": {},
   "source": [
    "A base class that provides specific functionality (data and behavior) and to define derived classes that either inherit or override that functionality.\n",
    "\n",
    "we can also say Base class is Parent class and derived class is Child class."
   ]
  },
  {
   "cell_type": "markdown",
   "id": "11d24b6c",
   "metadata": {},
   "source": [
    "<b style=\"color:red;\">Que [4]. What is the significance of the \"protected\" access modifier in inheritance? How does\n",
    "it differ from \"private\" and \"public\" modifiers?</b>"
   ]
  },
  {
   "cell_type": "markdown",
   "id": "883b446e",
   "metadata": {},
   "source": [
    "Class properties and methods with protected access modifier can be accessed within the class and from the class that inherits the protected class. In python, protected members and methods are declared using single underscore(‘_’) as prefix before their names.\n",
    "\n",
    " Public properties and methods of a class can be accessed from anywhere outside or inside the class. Private member variables and properties can only be accessed from inside the class in which the properties and methods are declared. Protected access modifiers are used when we need to access the properties and methods of the class from inside the class and from the class which inherits from that class."
   ]
  },
  {
   "cell_type": "markdown",
   "id": "d47b3ef5",
   "metadata": {},
   "source": [
    "<b style=\"color:red;\">Que [5]. What is the purpose of the \"super\" keyword in inheritance? Provide an example.</b>"
   ]
  },
  {
   "cell_type": "markdown",
   "id": "ed642c43",
   "metadata": {},
   "source": [
    "super() function is used to refer to the parent class or superclass. It allows you to call methods defined in the superclass from the subclass, enabling you to extend and customize the functionality inherited from the parent class.\n",
    "\n",
    "<pre>\n",
    "class Emp():\n",
    "\tdef __init__(self, id, name, Add):\n",
    "\t\tself.id = id\n",
    "\t\tself.name = name\n",
    "\t\tself.Add = Add\n",
    "\n",
    "class Freelance(Emp):\n",
    "\tdef __init__(self, id, name, Add, Emails):\n",
    "\t\tsuper().__init__(id, name, Add)\n",
    "\t\tself.Emails = Emails\n",
    "\n",
    "Emp_1 = Freelance(103, \"Suraj kr gupta\", \"Noida\" , \"KKK@gmails\")\n",
    "print('The ID is:', Emp_1.id)\n",
    "print('The Name is:', Emp_1.name)\n",
    "print('The Address is:', Emp_1.Add)\n",
    "print('The Emails is:', Emp_1.Emails)\n",
    "</pre>"
   ]
  },
  {
   "cell_type": "markdown",
   "id": "9e28d1a1",
   "metadata": {},
   "source": [
    "<b style=\"color:red;\">Que [6]. Create a base class called \"Vehicle\" with attributes like \"make\", \"model\", and \"year\".\n",
    "Then, create a derived class called \"Car\" that inherits from \"Vehicle\" and adds an\n",
    "attribute called \"fuel_type\". Implement appropriate methods in both classes.</b>"
   ]
  },
  {
   "cell_type": "code",
   "execution_count": 3,
   "id": "6b43156f",
   "metadata": {},
   "outputs": [
    {
     "name": "stdout",
     "output_type": "stream",
     "text": [
      "abc\n",
      "xyz\n",
      "2023\n",
      "CNG\n"
     ]
    }
   ],
   "source": [
    "class Vehicle():\n",
    "    def __init__(self, make, model, year):\n",
    "        self.make = make\n",
    "        self.model = model\n",
    "        self.year = year\n",
    "        \n",
    "class Car(Vehicle):\n",
    "    def __init__(self, make, model, year, fuel_type):\n",
    "        super().__init__(make, model, year)\n",
    "        self.fuel_type = fuel_type\n",
    "        \n",
    "obj = Car(\"abc\", \"xyz\", 2023, \"CNG\")\n",
    "print(obj.make)\n",
    "print(obj.model)\n",
    "print(obj.year)\n",
    "print(obj.fuel_type)"
   ]
  },
  {
   "cell_type": "markdown",
   "id": "1481e01b",
   "metadata": {},
   "source": [
    "<b style=\"color:red;\">Que [7]. Create a base class called \"Employee\" with attributes like \"name\" and \"salary.\"\n",
    "Derive two classes, \"Manager\" and \"Developer,\" from \"Employee.\" Add an additional\n",
    "attribute called \"department\" for the \"Manager\" class and \"programming_language\"\n",
    "for the \"Developer\" class.</b>"
   ]
  },
  {
   "cell_type": "code",
   "execution_count": 9,
   "id": "9767b394",
   "metadata": {},
   "outputs": [
    {
     "name": "stdout",
     "output_type": "stream",
     "text": [
      "Awanish\n",
      "27k\n",
      "Pharma\n",
      "\n",
      "Ritesh\n",
      "25k\n",
      "Angular\n"
     ]
    }
   ],
   "source": [
    "class Employee():\n",
    "    def __init__(self, name, salary):\n",
    "        self.name = name\n",
    "        self.salary = salary\n",
    "        \n",
    "class Manager(Employee):\n",
    "    def __init__(self, name, salary, department):\n",
    "        super().__init__(name, salary)\n",
    "        self.department = department\n",
    "        \n",
    "class Developer(Employee):\n",
    "    def __init__(self, name, salary, programming_language):\n",
    "        super().__init__(name, salary)\n",
    "        self.programming_language = programming_language\n",
    "        \n",
    "obj1 = Manager(\"Awanish\", \"27k\", \"Pharma\")\n",
    "obj2 = Developer(\"Ritesh\", \"25k\", \"Angular\")\n",
    "\n",
    "print(obj1.name)\n",
    "print(obj1.salary)\n",
    "print(obj1.department)\n",
    "print()\n",
    "print(obj2.name)\n",
    "print(obj2.salary)\n",
    "print(obj2.programming_language)"
   ]
  },
  {
   "cell_type": "markdown",
   "id": "95f8c0a7",
   "metadata": {},
   "source": [
    "<b style=\"color:red;\">Que [8]. Design a base class called \"Shape\" with attributes like \"colour\" and \"border_width.\"\n",
    "Create derived classes, \"Rectangle\" and \"Circle,\" that inherit from \"Shape\" and add\n",
    "specific attributes like \"length\" and \"width\" for the \"Rectangle\" class and \"radius\" for\n",
    "the \"Circle\" class.</b>"
   ]
  },
  {
   "cell_type": "code",
   "execution_count": 11,
   "id": "a2aa16ba",
   "metadata": {},
   "outputs": [
    {
     "name": "stdout",
     "output_type": "stream",
     "text": [
      "red\n",
      "2px\n",
      "20m\n",
      "15m\n",
      "\n",
      "blue\n",
      "1px\n",
      "10\n"
     ]
    }
   ],
   "source": [
    "class Shape():\n",
    "    def __init__(self, colour, border_width):\n",
    "        self.colour = colour\n",
    "        self.border_width = border_width\n",
    "        \n",
    "class Rectangle(Shape):\n",
    "    def __init__(self, colour, border_width, length, width):\n",
    "        super().__init__(colour, border_width)\n",
    "        self.length = length\n",
    "        self.width = width\n",
    "\n",
    "class Circle(Shape):\n",
    "    def __init__(self, colour, border_width, radius):\n",
    "        super().__init__(colour, border_width)\n",
    "        self.radius = radius\n",
    "        \n",
    "obj1 = Rectangle(\"red\", \"2px\", \"20m\", \"15m\")\n",
    "obj2 = Circle(\"blue\", \"1px\", \"10\")\n",
    "\n",
    "print(obj1.colour)\n",
    "print(obj1.border_width)\n",
    "print(obj1.length)\n",
    "print(obj1.width)\n",
    "print()\n",
    "print(obj2.colour)\n",
    "print(obj2.border_width)\n",
    "print(obj2.radius)"
   ]
  },
  {
   "cell_type": "markdown",
   "id": "937bde86",
   "metadata": {},
   "source": [
    "<b style=\"color:red;\">Que [9]. Create a base class called \"Device\" with attributes like \"brand\" and \"model.\" Derive\n",
    "two classes, \"Phone\" and \"Tablet,\" from \"Device.\" Add specific attributes like\n",
    "\"screen_size\" for the \"Phone\" class and \"battery_capacity\" for the \"Tablet\" class.</b>"
   ]
  },
  {
   "cell_type": "code",
   "execution_count": 2,
   "id": "68475513",
   "metadata": {},
   "outputs": [
    {
     "name": "stdout",
     "output_type": "stream",
     "text": [
      "Google\n",
      "Pixel-7a\n",
      "6.1\n",
      "\n",
      "Realme\n",
      "GT-200\n",
      "5000mah\n"
     ]
    }
   ],
   "source": [
    "class Device():\n",
    "    def __init__(self, brand, model):\n",
    "        self.brand = brand\n",
    "        self.model = model\n",
    "        \n",
    "class Phone(Device):\n",
    "    def __init__(self, brand, model, screen_size):\n",
    "        super().__init__(brand, model)\n",
    "        self.screen_size = screen_size\n",
    "\n",
    "class Tablet(Device):\n",
    "    def __init__(self, brand, model, battery_capacity):\n",
    "        super().__init__(brand, model)\n",
    "        self.battery_capacity = battery_capacity\n",
    "        \n",
    "obj1 = Phone(\"Google\", \"Pixel-7a\", \"6.1\")\n",
    "obj2 = Tablet(\"Realme\", \"GT-200\", \"5000mah\")\n",
    "\n",
    "print(obj1.brand)\n",
    "print(obj1.model)\n",
    "print(obj1.screen_size)\n",
    "print()\n",
    "print(obj2.brand)\n",
    "print(obj2.model)\n",
    "print(obj2.battery_capacity)"
   ]
  },
  {
   "cell_type": "markdown",
   "id": "8533a1f9",
   "metadata": {},
   "source": [
    "<b style=\"color:red;\">Que [10]. Create a base class called \"BankAccount\" with attributes like \"account_number\" and\n",
    "\"balance.\" Derive two classes, \"SavingsAccount\" and \"CheckingAccount,\" from\n",
    "\"BankAccount.\" Add specific methods like \"calculate_interest\" for the\n",
    "\"SavingsAccount\" class and \"deduct_fees\" for the \"CheckingAccount\" class.</b>"
   ]
  },
  {
   "cell_type": "code",
   "execution_count": 7,
   "id": "3fea0d7b",
   "metadata": {},
   "outputs": [
    {
     "name": "stdout",
     "output_type": "stream",
     "text": [
      "abc23456\n",
      "10000\n",
      "200\n",
      "\n",
      "xyz65432\n",
      "20000\n",
      "500\n"
     ]
    }
   ],
   "source": [
    "class BankAccount():\n",
    "    def __init__(self, account_number, balance):\n",
    "        self.account_number = account_number\n",
    "        self.balance = balance\n",
    "        \n",
    "class SavingsAccount(BankAccount):\n",
    "    def __init__(self, account_number, balance, calculate_interest):\n",
    "        super().__init__(account_number, balance)\n",
    "        self.calculate_interest = calculate_interest\n",
    "\n",
    "class CheckingAccount(BankAccount):\n",
    "    def __init__(self, account_number, balance, deduct_fees):\n",
    "        super().__init__(account_number, balance)\n",
    "        self.deduct_fees = deduct_fees\n",
    "        \n",
    "obj1 = SavingsAccount(\"abc23456\", \"10000\", \"200\")\n",
    "obj2 = CheckingAccount(\"xyz65432\", \"20000\", \"500\")\n",
    "\n",
    "print(obj1.account_number)\n",
    "print(obj1.balance)\n",
    "print(obj1.calculate_interest)\n",
    "print()\n",
    "print(obj2.account_number)\n",
    "print(obj2.balance)\n",
    "print(obj2.deduct_fees)"
   ]
  }
 ],
 "metadata": {
  "kernelspec": {
   "display_name": "Python 3 (ipykernel)",
   "language": "python",
   "name": "python3"
  },
  "language_info": {
   "codemirror_mode": {
    "name": "ipython",
    "version": 3
   },
   "file_extension": ".py",
   "mimetype": "text/x-python",
   "name": "python",
   "nbconvert_exporter": "python",
   "pygments_lexer": "ipython3",
   "version": "3.10.9"
  }
 },
 "nbformat": 4,
 "nbformat_minor": 5
}
