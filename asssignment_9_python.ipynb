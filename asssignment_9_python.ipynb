{
 "cells": [
  {
   "cell_type": "markdown",
   "id": "f27ade00",
   "metadata": {},
   "source": [
    "<h3 style=\"color:red;\">1. What is a lambda function in Python, and how does it differ from a regular function?</h3>"
   ]
  },
  {
   "cell_type": "markdown",
   "id": "ceada57c",
   "metadata": {},
   "source": [
    "A lambda function is an anonymous function (i.e., defined without a name) that can take any number of arguments but, unlike normal functions, evaluates and returns only one expression. While normal functions are defined using the def keyword, anonymous functions are defined using the lambda keyword.\n",
    "\n",
    "<span style=\"font-weight:bold; color:green;\">Syntax:</span> lambda arguments : expression<br><br>\n",
    "    Example:<br>\n",
    "            &nbsp;&nbsp;&nbsp;&nbsp;&nbsp;squares = lambda x: x*x<br>\n",
    "            &nbsp;&nbsp;&nbsp;&nbsp;&nbsp;print('Using lambda: ', squares(5))"
   ]
  },
  {
   "cell_type": "markdown",
   "id": "2e67e7f7",
   "metadata": {},
   "source": [
    "<h3 style=\"color:red;\">2. Can a lambda function in Python have multiple arguments? If yes, how can you define and use\n",
    "them?</h3>"
   ]
  },
  {
   "cell_type": "markdown",
   "id": "5efe9df6",
   "metadata": {},
   "source": [
    "Yes, A lambda function can take any number of arguments, but can only have one expression.\n",
    "\n",
    "<span style=\"font-weight:bold; color:green;\">Syntax:</span> lambda arguments : expression\n",
    "\n",
    "    Example:\n",
    "            squares = lambda x: x*x<br>\n",
    "            print('Using lambda: ', squares(5))"
   ]
  },
  {
   "cell_type": "markdown",
   "id": "199e8d2e",
   "metadata": {},
   "source": [
    "<h3 style=\"color:red;\">3. How are lambda functions typically used in Python? Provide an example use case.</h3>"
   ]
  },
  {
   "cell_type": "markdown",
   "id": "0d33507b",
   "metadata": {},
   "source": [
    "Lambda function is used to create simple expressions. For example, expressions that do not include complex structures such as if-else, for-loops, and so on.\n",
    "\n",
    "When working with iterables, we can use lambda functions in conjunction with two common functions: filter() and map()"
   ]
  },
  {
   "cell_type": "code",
   "execution_count": 3,
   "id": "c2076eba",
   "metadata": {},
   "outputs": [
    {
     "name": "stdout",
     "output_type": "stream",
     "text": [
      "[2, 4, 6, 8, 10]\n",
      "[4, 9, 16, 25]\n"
     ]
    }
   ],
   "source": [
    "list1 = [1, 2, 3, 4, 5, 6, 7, 8, 9, 10]\n",
    "print(list(filter(lambda x: x % 2 == 0, list1)))\n",
    "\n",
    "list1 = [2, 3, 4, 5]\n",
    "print(list(map(lambda x: pow(x, 2), list1)))"
   ]
  },
  {
   "cell_type": "markdown",
   "id": "18511bf8",
   "metadata": {},
   "source": [
    "<h3 style=\"color:red;\">4. What are the advantages and limitations of lambda functions compared to regular functions in\n",
    "Python?</h3>"
   ]
  },
  {
   "cell_type": "markdown",
   "id": "653ba5b5",
   "metadata": {},
   "source": [
    "They can be immediately passed around (no variable needed).\n",
    "They can only have a single line of code within them.\n",
    "They return automatically.\n",
    "They can’t have a docstring and they don’t have a name.\n",
    "\n",
    "If we want to create a function and store it in a variable, define our function using def. That’s exactly what it’s for. It doesn’t matter if our function is a single line of code or if you’re defining a function inside of another function, def works just fine for those use cases.\n",
    "\n",
    " All functions in Python (not just lambda functions) can be passed around. If a function is important, it deserves a name. You could argue that most functions that are used in a lambda expression are so trivial that they don’t deserve a name, but there’s often little downside to naming functions and I find it usually makes my code more readable overall."
   ]
  },
  {
   "cell_type": "markdown",
   "id": "a7c43898",
   "metadata": {},
   "source": [
    "<h3 style=\"color:red;\">5. Are lambda functions in Python able to access variables defined outside of their own scope?\n",
    "Explain with an example.</h3>"
   ]
  },
  {
   "cell_type": "markdown",
   "id": "7813f3c2",
   "metadata": {},
   "source": [
    "Lambda functions have their own local namespace and cannot access variables other than those in their parameter list and those in the global namespace."
   ]
  },
  {
   "cell_type": "code",
   "execution_count": 23,
   "id": "91a7ede9",
   "metadata": {},
   "outputs": [
    {
     "name": "stdout",
     "output_type": "stream",
     "text": [
      "17\n"
     ]
    }
   ],
   "source": [
    "c = 10\n",
    "sum1 = lambda a,b : a + b + c\n",
    "print(sum1(3,4))"
   ]
  },
  {
   "cell_type": "markdown",
   "id": "96e35008",
   "metadata": {},
   "source": [
    "<h3 style=\"color:red;\">6. Write a lambda function to calculate the square of a given number.</h3>"
   ]
  },
  {
   "cell_type": "code",
   "execution_count": 32,
   "id": "c4538546",
   "metadata": {},
   "outputs": [
    {
     "name": "stdout",
     "output_type": "stream",
     "text": [
      "Enter a number for square: 4\n",
      "16\n"
     ]
    }
   ],
   "source": [
    "list1 = int(input(\"Enter a number for square: \"))\n",
    "sqVal = lambda list1: pow(list1, 2)\n",
    "print(sqVal(list1))"
   ]
  },
  {
   "cell_type": "markdown",
   "id": "f5adb8e9",
   "metadata": {},
   "source": [
    "<h3 style=\"color:red;\">7. Create a lambda function to find the maximum value in a list of integers.</h3>"
   ]
  },
  {
   "cell_type": "code",
   "execution_count": 35,
   "id": "1dcdb03f",
   "metadata": {},
   "outputs": [
    {
     "name": "stdout",
     "output_type": "stream",
     "text": [
      "100\n"
     ]
    }
   ],
   "source": [
    "lis = [1, 100, 11, 2, 2, 2.57]\n",
    "print(max(lis, key=lambda x: int(x)))"
   ]
  },
  {
   "cell_type": "markdown",
   "id": "803f1b24",
   "metadata": {},
   "source": [
    "<h3 style=\"color:red;\">8. Implement a lambda function to filter out all the even numbers from a list of integers.</h3>"
   ]
  },
  {
   "cell_type": "code",
   "execution_count": 36,
   "id": "2f296ab0",
   "metadata": {},
   "outputs": [
    {
     "name": "stdout",
     "output_type": "stream",
     "text": [
      "[2, 4, 6, 8, 10]\n"
     ]
    }
   ],
   "source": [
    "list1 = [1, 2, 3, 4, 5, 6, 7, 8, 9, 10]\n",
    "print(list(filter(lambda x: x % 2 == 0, list1)))"
   ]
  },
  {
   "cell_type": "markdown",
   "id": "f370cc6e",
   "metadata": {},
   "source": [
    "<h3 style=\"color:red;\">9. Write a lambda function to sort a list of strings in ascending order based on the length of each\n",
    "string.</h3>"
   ]
  },
  {
   "cell_type": "code",
   "execution_count": 50,
   "id": "11fa7f36",
   "metadata": {},
   "outputs": [
    {
     "name": "stdout",
     "output_type": "stream",
     "text": [
      "['amy', 'rohan', 'sapna', 'aakash', 'raunak', 'chinmoy', 'muhammad']\n"
     ]
    }
   ],
   "source": [
    "myList = [\"rohan\", \"amy\", \"sapna\", \"muhammad\", \"aakash\", \"raunak\", \"chinmoy\"]\n",
    "sortedList = sorted(myList, key=lambda x: len(x))\n",
    "print(sortedList)"
   ]
  },
  {
   "cell_type": "markdown",
   "id": "c52ade60",
   "metadata": {},
   "source": [
    "<h3 style=\"color:red;\">10. Create a lambda function that takes two lists as input and returns a new list containing the\n",
    "common elements between the two lists.</h3>"
   ]
  },
  {
   "cell_type": "code",
   "execution_count": 52,
   "id": "903d4f7f",
   "metadata": {},
   "outputs": [
    {
     "name": "stdout",
     "output_type": "stream",
     "text": [
      "[9, 10, 5, 4]\n"
     ]
    }
   ],
   "source": [
    "from functools import reduce\n",
    "\n",
    "lst1 = [15, 9, 10, 56, 23, 78, 5, 4, 9]\n",
    "lst2 = [9, 4, 5, 36, 47, 26, 10, 45, 87]\n",
    "\n",
    "commonElement = reduce(lambda common, x: common + [x] if x in lst2 and x not in common else common, lst1, [])\n",
    "print(commonElement)"
   ]
  },
  {
   "cell_type": "markdown",
   "id": "13fa5e8d",
   "metadata": {},
   "source": [
    "<h3 style=\"color:red;\">11. Write a recursive function to calculate the factorial of a given positive integer.</h3>"
   ]
  },
  {
   "cell_type": "code",
   "execution_count": 55,
   "id": "a279007a",
   "metadata": {},
   "outputs": [
    {
     "name": "stdout",
     "output_type": "stream",
     "text": [
      "Factorial of 5 is 120\n"
     ]
    }
   ],
   "source": [
    "def factorial(n):\n",
    "    if n == 0:\n",
    "        return 1\n",
    "\n",
    "    return n * factorial(n-1)\n",
    "\n",
    "num = 5;\n",
    "print(\"Factorial of\", num, \"is\", factorial(num))"
   ]
  },
  {
   "cell_type": "markdown",
   "id": "b9d363b4",
   "metadata": {},
   "source": [
    "<h3 style=\"color:red;\">12. Implement a recursive function to compute the nth Fibonacci number.</h3>"
   ]
  },
  {
   "cell_type": "code",
   "execution_count": 58,
   "id": "85aee1d4",
   "metadata": {},
   "outputs": [
    {
     "name": "stdout",
     "output_type": "stream",
     "text": [
      "10 th Fibonacci Number:  55\n"
     ]
    }
   ],
   "source": [
    "def fibonacci(n):\n",
    "    if n <= 1:\n",
    "        return n\n",
    "    return fibonacci(n-1) + fibonacci(n-2)\n",
    "\n",
    "n = 10\n",
    "print(n, \"th Fibonacci Number: \", fibonacci(n))"
   ]
  },
  {
   "cell_type": "markdown",
   "id": "8b092bcc",
   "metadata": {},
   "source": [
    "<h3 style=\"color:red;\">13. Create a recursive function to find the sum of all the elements in a given list.</h3>"
   ]
  },
  {
   "cell_type": "code",
   "execution_count": 61,
   "id": "fb35b5b9",
   "metadata": {},
   "outputs": [
    {
     "name": "stdout",
     "output_type": "stream",
     "text": [
      "15\n"
     ]
    }
   ],
   "source": [
    "def findSum(arr, N):\n",
    "    if N <= 0:\n",
    "        return 0\n",
    "    else:\n",
    "        return findSum(arr, N - 1) + arr[N - 1]\n",
    "\n",
    "arr =[]\n",
    "arr = [1, 2, 3, 4, 5]\n",
    "\n",
    "N = len(arr)\n",
    "ans = findSum(arr,N)\n",
    "print(ans)"
   ]
  },
  {
   "cell_type": "markdown",
   "id": "f7ec3483",
   "metadata": {},
   "source": [
    "<h3 style=\"color:red;\">14. Write a recursive function to determine whether a given string is a palindrome.</h3>"
   ]
  },
  {
   "cell_type": "code",
   "execution_count": 72,
   "id": "eb43fb0d",
   "metadata": {},
   "outputs": [
    {
     "name": "stdout",
     "output_type": "stream",
     "text": [
      "Given String 'geeg' is Pallindrome.\n"
     ]
    }
   ],
   "source": [
    "def isPalindrome(s, i):\n",
    "    if(i > len(s)/2):\n",
    "        return True\n",
    "    ans = False\n",
    "    if((s[i] is s[len(s) - i - 1]) and isPalindrome(s, i + 1)):\n",
    "        ans = True\n",
    "        return ans\n",
    "\n",
    "str = \"geeg\"\n",
    "if (isPalindrome(str, 0)):\n",
    "    print(f\"Given String '{str}' is Pallindrome.\")\n",
    "else:\n",
    "    print(f\"Given String is '{str}' not Pallindrome.\")"
   ]
  },
  {
   "cell_type": "markdown",
   "id": "ad4ed28c",
   "metadata": {},
   "source": [
    "<h3 style=\"color:red;\">15. Implement a recursive function to find the greatest common divisor (GCD) of two positive integers.</h3>"
   ]
  },
  {
   "cell_type": "code",
   "execution_count": 75,
   "id": "18dd262f",
   "metadata": {},
   "outputs": [
    {
     "name": "stdout",
     "output_type": "stream",
     "text": [
      "Enter first number:98\n",
      "Enter second number:56\n",
      "GCD is:  14\n"
     ]
    }
   ],
   "source": [
    "def gcd(a,b):\n",
    "    if(b == 0):\n",
    "        return a\n",
    "    else:\n",
    "        return gcd(b, a % b)\n",
    "    \n",
    "a = int(input(\"Enter first number:\"))\n",
    "b = int(input(\"Enter second number:\"))\n",
    "GCD = gcd(a,b)\n",
    "print(\"GCD is: \", GCD)"
   ]
  }
 ],
 "metadata": {
  "kernelspec": {
   "display_name": "Python 3 (ipykernel)",
   "language": "python",
   "name": "python3"
  },
  "language_info": {
   "codemirror_mode": {
    "name": "ipython",
    "version": 3
   },
   "file_extension": ".py",
   "mimetype": "text/x-python",
   "name": "python",
   "nbconvert_exporter": "python",
   "pygments_lexer": "ipython3",
   "version": "3.10.9"
  }
 },
 "nbformat": 4,
 "nbformat_minor": 5
}
