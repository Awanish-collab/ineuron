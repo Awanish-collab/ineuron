{
 "cells": [
  {
   "cell_type": "markdown",
   "id": "32bcfbe4",
   "metadata": {},
   "source": [
    "💡 1. **Roman to Integer**\n",
    "\n",
    "Roman numerals are represented by seven different symbols: `I`, `V`, `X`, `L`, `C`, `D` and `M`.\n",
    "<pre>\n",
    "SymbolValue\n",
    "I             1\n",
    "V             5\n",
    "X             10\n",
    "L             50\n",
    "C             100\n",
    "D             500\n",
    "M             1000\n",
    "</pre>\n",
    "\n",
    "For example, `2` is written as `II` in Roman numeral, just two ones added together. `12` is written as `XII`, which is simply `X + II`. The number `27` is written as `XXVII`, which is `XX + V + II`.\n",
    "\n",
    "Roman numerals are usually written largest to smallest from left to right. However, the numeral for four is not `IIII`. Instead, the number four is written as `IV`. Because the one is before the five we subtract it making four. The same principle applies to the number nine, which is written as `IX`. There are six instances where subtraction is used:\n",
    "\n",
    "- `I` can be placed before `V` (5) and `X` (10) to make 4 and 9.\n",
    "- `X` can be placed before `L` (50) and `C` (100) to make 40 and 90.\n",
    "- `C` can be placed before `D` (500) and `M` (1000) to make 400 and 900.\n",
    "\n",
    "Given a roman numeral, convert it to an integer.\n",
    "\n",
    "**Example 1:**\n",
    "\n",
    "```\n",
    "Input: s = \"III\"\n",
    "Output: 3\n",
    "Explanation: III = 3.\n",
    "```\n",
    "\n",
    "**Example 2:**\n",
    "\n",
    "```\n",
    "Input: s = \"LVIII\"\n",
    "Output: 58\n",
    "Explanation: L = 50, V= 5, III = 3.\n",
    "```\n",
    "\n",
    "**Constraints:**\n",
    "\n",
    "- `1 <= s.length <= 15`\n",
    "- `s` contains only the characters `('I', 'V', 'X', 'L', 'C', 'D', 'M')`.\n",
    "- It is **guaranteed** that `s` is a valid roman numeral in the range `[1, 3999]`."
   ]
  },
  {
   "cell_type": "code",
   "execution_count": 7,
   "id": "3a8a9d63",
   "metadata": {},
   "outputs": [
    {
     "name": "stdout",
     "output_type": "stream",
     "text": [
      "58\n"
     ]
    }
   ],
   "source": [
    "def romanToInt(s):\n",
    "    roman_map = {'I': 1, 'V': 5, 'X': 10, 'L': 50, 'C': 100, 'D': 500, 'M': 1000}\n",
    "    n = len(s)\n",
    "    num = roman_map[s[n - 1]]\n",
    "    for i in range(n - 2, -1, -1):\n",
    "        if roman_map[s[i]] >= roman_map[s[i + 1]]:\n",
    "            num += roman_map[s[i]]\n",
    "        else:\n",
    "            num -= roman_map[s[i]]\n",
    "    return num\n",
    "\n",
    "#s = \"III\"\n",
    "s = \"LVIII\"\n",
    "print(romanToInt(s))"
   ]
  },
  {
   "cell_type": "markdown",
   "id": "9367c6fa",
   "metadata": {},
   "source": [
    "💡 2. **Longest Substring Without Repeating Characters**\n",
    "\n",
    "Given a string `s`, find the length of the **longest substring** without repeating characters.\n",
    "\n",
    "**Example 1:**\n",
    "Input: s = \"abcabcbb\"\n",
    "Output: 3\n",
    "Explanation: The answer is \"abc\", with the length of 3.\n",
    "\n",
    "**Example 2:**\n",
    "Input: s = \"bbbbb\"\n",
    "Output: 1\n",
    "Explanation: The answer is \"b\", with the length of 1.\n",
    "\n",
    "**Example 3:**\n",
    "Input: s = \"pwwkew\"\n",
    "Output: 3\n",
    "Explanation: The answer is \"wke\", with the length of 3.\n",
    "Notice that the answer must be a substring, \"pwke\" is a subsequence and not a substring.\n",
    "\n",
    "**Constraints:**\n",
    "- `0 <= s.length <= 50000`\n",
    "- `s` consists of English letters, digits, symbols and spaces."
   ]
  },
  {
   "cell_type": "code",
   "execution_count": 36,
   "id": "4d534aea",
   "metadata": {},
   "outputs": [
    {
     "name": "stdout",
     "output_type": "stream",
     "text": [
      "3\n"
     ]
    }
   ],
   "source": [
    "def lengthOfLongestSubstring(s, n):\n",
    "    def check(start, end):\n",
    "        chars = [0] * 128\n",
    "        for i in range(start, end + 1):\n",
    "            c = s[i]\n",
    "            chars[ord(c)] += 1\n",
    "            if chars[ord(c)] > 1:\n",
    "                return False\n",
    "        return True\n",
    "    \n",
    "    res = 0\n",
    "    for i in range(n):\n",
    "        for j in range(i, n):\n",
    "            if check(i, j):\n",
    "                res = max(res, j - i + 1)\n",
    "    return res\n",
    "\n",
    "#s = 'bbbbb'\n",
    "s = 'pwwkew'\n",
    "#n = len(s)  # I do't know why this len(s) is throwing error like -> TypeError: 'int' object is not callable\n",
    "n = 0\n",
    "for i in s:\n",
    "    n += 1\n",
    "#print(n)\n",
    "print(lengthOfLongestSubstring(s,n))"
   ]
  },
  {
   "cell_type": "markdown",
   "id": "cd7a20e6",
   "metadata": {},
   "source": [
    "💡 3. **Majority Element**\n",
    "\n",
    "Given an array `nums` of size `n`, return *the majority element*.\n",
    "\n",
    "The majority element is the element that appears more than `⌊n / 2⌋` times. You may assume that the majority element always exists in the array.\n",
    "\n",
    "**Example 1:**\n",
    "\n",
    "```\n",
    "Input: nums = [3,2,3]\n",
    "Output: 3\n",
    "```\n",
    "\n",
    "**Example 2:**\n",
    "\n",
    "```\n",
    "Input: nums = [2,2,1,1,1,2,2]\n",
    "Output: 2\n",
    "```\n",
    "\n",
    "**Constraints:**\n",
    "\n",
    "- `n == nums.length`\n",
    "- `1 <= n <= 5 * 10^4`\n",
    "- `-10^9 <= nums[i] <= 10^9`"
   ]
  },
  {
   "cell_type": "code",
   "execution_count": 42,
   "id": "2f3628cc",
   "metadata": {},
   "outputs": [
    {
     "name": "stdout",
     "output_type": "stream",
     "text": [
      "2\n"
     ]
    }
   ],
   "source": [
    "def findMajority(arr, n):\n",
    "    maxCount = 0\n",
    "    index = -1 \n",
    "\n",
    "    for i in range(n):\n",
    "        count = 1\n",
    "        for j in range(i+1, n):\n",
    "            if(arr[i] == arr[j]):\n",
    "                count += 1\n",
    "\n",
    "        if(count > maxCount):\n",
    "            maxCount = count\n",
    "            index = i\n",
    "\n",
    "    if (maxCount > n//2):\n",
    "        print(arr[index])\n",
    "    else:\n",
    "        print(\"No Majority Element\")\n",
    "\n",
    "\n",
    "#arr = [3,2,3]\n",
    "arr = [2,2,1,1,1,2,2]\n",
    "#n = len(arr)  # throwing error\n",
    "len_arr = 0\n",
    "for i in arr:\n",
    "    len_arr += 1\n",
    "# Function calling\n",
    "findMajority(arr, len_arr)"
   ]
  },
  {
   "cell_type": "markdown",
   "id": "8fa0c408",
   "metadata": {},
   "source": [
    "💡 4. **Group Anagram**\n",
    "\n",
    "Given an array of strings `strs`, group **the anagrams** together. You can return the answer in **any order**.\n",
    "\n",
    "An **Anagram** is a word or phrase formed by rearranging the letters of a different word or phrase, typically using all the original letters exactly once.\n",
    "\n",
    "**Example 1:**\n",
    "\n",
    "```\n",
    "Input: strs = [\"eat\",\"tea\",\"tan\",\"ate\",\"nat\",\"bat\"]\n",
    "Output: [[\"bat\"],[\"nat\",\"tan\"],[\"ate\",\"eat\",\"tea\"]]\n",
    "```\n",
    "\n",
    "**Example 2:**\n",
    "\n",
    "```\n",
    "Input: strs = [\"\"]\n",
    "Output: [[\"\"]]\n",
    "```\n",
    "\n",
    "**Example 3:**\n",
    "\n",
    "```\n",
    "Input: strs = [\"a\"]\n",
    "Output: [[\"a\"]]\n",
    "```\n",
    "\n",
    "**Constraints:**\n",
    "\n",
    "- `1 <= strs.length <= 10000`\n",
    "- `0 <= strs[i].length <= 100`\n",
    "- `strs[i]` consists of lowercase English letters."
   ]
  },
  {
   "cell_type": "code",
   "execution_count": 57,
   "id": "52808c39",
   "metadata": {},
   "outputs": [
    {
     "name": "stdout",
     "output_type": "stream",
     "text": [
      "[['eat', 'tea', 'ate'], ['tan', 'nat'], ['bat']]\n"
     ]
    }
   ],
   "source": [
    "def groupAnagrams(strs):\n",
    "    res = {}\n",
    "    for word in strs:\n",
    "        temp = ''.join(sorted(word))\n",
    "        if temp in res:\n",
    "            res[temp].append(word)\n",
    "        else:\n",
    "            res[temp] = [word]\n",
    "    return res.values()\n",
    "\n",
    "strs = [\"eat\",\"tea\",\"tan\",\"ate\",\"nat\",\"bat\"]\n",
    "#strs = [\"\"]\n",
    "#strs = [\"a\"]\n",
    "print(list(groupAnagrams(strs)))"
   ]
  },
  {
   "cell_type": "markdown",
   "id": "f6818ee6",
   "metadata": {},
   "source": [
    "💡 5. **Ugly Numbers**\n",
    "\n",
    "An **ugly number** is a positive integer whose prime factors are limited to `2`, `3`, and `5`.\n",
    "\n",
    "Given an integer `n`, return *the* `nth` ***ugly number***.\n",
    "\n",
    "**Example 1:**\n",
    "\n",
    "```\n",
    "Input: n = 10\n",
    "Output: 12\n",
    "Explanation: [1, 2, 3, 4, 5, 6, 8, 9, 10, 12] is the sequence of the first 10 ugly numbers.\n",
    "```\n",
    "\n",
    "**Example 2:**\n",
    "\n",
    "```\n",
    "Input: n = 1\n",
    "Output: 1\n",
    "Explanation: 1 has no prime factors, therefore all of its prime factors are limited to 2, 3, and 5.\n",
    "```\n",
    "\n",
    "**Constraints:**\n",
    "\n",
    "- `1 <= n <= 1690`"
   ]
  },
  {
   "cell_type": "code",
   "execution_count": 61,
   "id": "670746f1",
   "metadata": {},
   "outputs": [
    {
     "name": "stdout",
     "output_type": "stream",
     "text": [
      "12\n"
     ]
    }
   ],
   "source": [
    "def maxDivide(a, b):\n",
    "    while a % b == 0:\n",
    "        a = a / b\n",
    "    return a\n",
    "\n",
    "\n",
    "def isUgly(no):\n",
    "    no = maxDivide(no, 2)\n",
    "    no = maxDivide(no, 3)\n",
    "    no = maxDivide(no, 5)\n",
    "    return 1 if no == 1 else 0\n",
    "\n",
    "def getNthUglyNo(n):\n",
    "    i = 1\n",
    "    count = 1\n",
    "\n",
    "    while n > count:\n",
    "        i += 1\n",
    "        if isUgly(i):\n",
    "            count += 1\n",
    "    return i\n",
    "\n",
    "no = getNthUglyNo(10)\n",
    "print(no)"
   ]
  },
  {
   "cell_type": "markdown",
   "id": "2f13c6dd",
   "metadata": {},
   "source": [
    "💡 6. **Top K Frequent Words**\n",
    "\n",
    "Given an array of strings `words` and an integer `k`, return *the* `k` *most frequent strings*.\n",
    "\n",
    "Return the answer **sorted** by **the frequency** from highest to lowest. Sort the words with the same frequency by their **lexicographical order**.\n",
    "\n",
    "**Example 1:**\n",
    "\n",
    "```\n",
    "Input: words = [\"i\",\"love\",\"leetcode\",\"i\",\"love\",\"coding\"], k = 2\n",
    "Output: [\"i\",\"love\"]\n",
    "Explanation: \"i\" and \"love\" are the two most frequent words.\n",
    "Note that \"i\" comes before \"love\" due to a lower alphabetical order.\n",
    "```\n",
    "\n",
    "**Example 2:**\n",
    "\n",
    "```\n",
    "Input: words = [\"the\",\"day\",\"is\",\"sunny\",\"the\",\"the\",\"the\",\"sunny\",\"is\",\"is\"], k = 4\n",
    "Output: [\"the\",\"is\",\"sunny\",\"day\"]\n",
    "Explanation: \"the\", \"is\", \"sunny\" and \"day\" are the four most frequent words, with the number of occurrence being 4, 3, 2 and 1 respectively.\n",
    "```\n",
    "\n",
    "**Constraints:**\n",
    "\n",
    "- `1 <= words.length <= 500`\n",
    "- `1 <= words[i].length <= 10`\n",
    "- `words[i]` consists of lowercase English letters.\n",
    "- `k` is in the range `[1, The number of **unique** words[i]]`"
   ]
  },
  {
   "cell_type": "code",
   "execution_count": 48,
   "id": "fd90fa3a",
   "metadata": {},
   "outputs": [
    {
     "data": {
      "text/plain": [
       "['the', 'is', 'sunny', 'day']"
      ]
     },
     "execution_count": 48,
     "metadata": {},
     "output_type": "execute_result"
    }
   ],
   "source": [
    "def topKFrequent(words, k):\n",
    "    wordsdict = {}\n",
    "    for word in words:\n",
    "        if word not in wordsdict.keys():\n",
    "            wordsdict[word] = 1\n",
    "        else:\n",
    "            wordsdict[word] += 1\n",
    "\n",
    "    wordsdictsort = dict(sorted(wordsdict.items(), key=lambda item: item[1], reverse=True))\n",
    "\n",
    "    lexico = {}\n",
    "    for key, value in wordsdictsort.items():\n",
    "        if value not in lexico.keys():\n",
    "            lexico[value] = [key]\n",
    "        else:\n",
    "            lexico[value].append(key)\n",
    "            lexico[value].sort()\n",
    "\n",
    "    ans = []\n",
    "    for value in lexico.values():\n",
    "        ans.extend(value)\n",
    "\n",
    "    return ans[:k]\n",
    "\n",
    "words = [\"the\",\"day\",\"is\",\"sunny\",\"the\",\"the\",\"the\",\"sunny\",\"is\",\"is\"]\n",
    "k = 4\n",
    "#words = [\"i\",\"love\",\"leetcode\",\"i\",\"love\",\"coding\"]; k = 2\n",
    "topKFrequent(words, k)"
   ]
  },
  {
   "cell_type": "markdown",
   "id": "84e9811d",
   "metadata": {},
   "source": [
    "💡 7. **Sliding Window Maximum**\n",
    "\n",
    "You are given an array of integers `nums`, there is a sliding window of size `k` which is moving from the very left of the array to the very right. You can only see the `k` numbers in the window. Each time the sliding window moves right by one position.\n",
    "\n",
    "Return *the max sliding window*.\n",
    "\n",
    "**Example 1:**\n",
    "\n",
    "```\n",
    "Input: nums = [1,3,-1,-3,5,3,6,7], k = 3\n",
    "Output: [3,3,5,5,6,7]\n",
    "Explanation:\n",
    "Window position                Max\n",
    "---------------               -----\n",
    "[1  3  -1] -3  5  3  6 7         3\n",
    " 1 [3  -1  -3] 5  3  6 7         3\n",
    " 1  3 [-1  -3  5] 3  6 7         5\n",
    " 1  3  -1 [-3  5  3] 6 7         5\n",
    " 1  3  -1  -3 [5  3  6]7         6\n",
    " 1  3  -1  -3  5 [3  6  7]       7\n",
    "```\n",
    "\n",
    "**Example 2:**\n",
    "\n",
    "```\n",
    "Input: nums = [1], k = 1\n",
    "Output: [1]\n",
    "```\n",
    "\n",
    "**Constraints:**\n",
    "\n",
    "- `1 <= nums.length <= 100000`\n",
    "- -`10000 <= nums[i] <= 10000`\n",
    "- `1 <= k <= nums.length`"
   ]
  },
  {
   "cell_type": "code",
   "execution_count": 73,
   "id": "b1f0c0e6",
   "metadata": {},
   "outputs": [
    {
     "name": "stdout",
     "output_type": "stream",
     "text": [
      "\t Added i to d\n",
      "\t Added i to d\n",
      "\t Added i to d\n",
      "\t Added i to d\n",
      "\t Added i to d\n",
      "\t Added i to d\n",
      "\t Added i to d\n",
      "\t Added i to d\n"
     ]
    },
    {
     "data": {
      "text/plain": [
       "[3, 3, 5, 5, 6, 7]"
      ]
     },
     "execution_count": 73,
     "metadata": {},
     "output_type": "execute_result"
    }
   ],
   "source": [
    "import collections\n",
    "\n",
    "def maxSlidingWindow(nums, k):\n",
    "    d = collections.deque()\n",
    "    out = []\n",
    "    for i, n in enumerate(nums):\n",
    "        while d and nums[d[-1]] < n:\n",
    "            d.pop()\n",
    "        d.append(i)\n",
    "        print(\"\\t Added i to d\")\n",
    "        if d[0] == i - k:\n",
    "            d.popleft()\n",
    "        if i>=k-1:\n",
    "            out.append(nums[d[0]])\n",
    "    return out\n",
    "\n",
    "nums = [1,3,-1,-3,5,3,6,7]; k = 3\n",
    "#nums = [1]; k = 1\n",
    "maxSlidingWindow(nums, k)"
   ]
  },
  {
   "cell_type": "markdown",
   "id": "83f56e08",
   "metadata": {},
   "source": [
    "💡 8. **Find K Closest Elements**\n",
    "\n",
    "Given a **sorted** integer array `arr`, two integers `k` and `x`, return the `k` closest integers to `x` in the array. The result should also be sorted in ascending order.\n",
    "\n",
    "An integer `a` is closer to `x` than an integer `b` if:\n",
    "\n",
    "- `|a - x| < |b - x|`, or\n",
    "- `|a - x| == |b - x|` and `a < b`\n",
    "\n",
    "**Example 1:**\n",
    "\n",
    "```\n",
    "Input: arr = [1,2,3,4,5], k = 4, x = 3\n",
    "Output: [1,2,3,4]\n",
    "```\n",
    "\n",
    "**Example 2:**\n",
    "\n",
    "```\n",
    "Input: arr = [1,2,3,4,5], k = 4, x = -1\n",
    "Output: [1,2,3,4]\n",
    "```\n",
    "\n",
    "**Constraints:**\n",
    "\n",
    "- `1 <= k <= arr.length`\n",
    "- `1 <= arr.length <= 10000`\n",
    "- `arr` is sorted in **ascending** order.\n",
    "- -`10000 <= arr[i], x <= 10000`"
   ]
  },
  {
   "cell_type": "code",
   "execution_count": 74,
   "id": "3d186a99",
   "metadata": {},
   "outputs": [
    {
     "data": {
      "text/plain": [
       "[1, 2, 3, 4]"
      ]
     },
     "execution_count": 74,
     "metadata": {},
     "output_type": "execute_result"
    }
   ],
   "source": [
    "def findkClosestElements( arr, k, x):\n",
    "    arr.sort(key = lambda i:abs(i-x))\n",
    "    return sorted(arr[:k])\n",
    "\n",
    "arr = [1,2,3,4,5]\n",
    "k = 4\n",
    "x = 3\n",
    "#arr = [1,2,3,4,5]; k = 4; x = -1\n",
    "\n",
    "findkClosestElements(arr, k, x)"
   ]
  }
 ],
 "metadata": {
  "kernelspec": {
   "display_name": "Python 3 (ipykernel)",
   "language": "python",
   "name": "python3"
  },
  "language_info": {
   "codemirror_mode": {
    "name": "ipython",
    "version": 3
   },
   "file_extension": ".py",
   "mimetype": "text/x-python",
   "name": "python",
   "nbconvert_exporter": "python",
   "pygments_lexer": "ipython3",
   "version": "3.10.9"
  }
 },
 "nbformat": 4,
 "nbformat_minor": 5
}
