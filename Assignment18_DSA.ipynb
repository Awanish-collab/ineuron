{
 "cells": [
  {
   "cell_type": "markdown",
   "id": "650801f1",
   "metadata": {},
   "source": [
    "💡 1. **Merge Intervals**\n",
    "\n",
    "Given an array of `intervals` where `intervals[i] = [starti, endi]`, merge all overlapping intervals, and return *an array of the non-overlapping intervals that cover all the intervals in the input*.\n",
    "\n",
    "**Example 1:**\n",
    "Input: intervals = [[1,3],[2,6],[8,10],[15,18]]\n",
    "Output: [[1,6],[8,10],[15,18]]\n",
    "Explanation: Since intervals [1,3] and [2,6] overlap, merge them into [1,6].\n",
    "\n",
    "**Example 2:**\n",
    "Input: intervals = [[1,4],[4,5]]\n",
    "Output: [[1,5]]\n",
    "Explanation: Intervals [1,4] and [4,5] are considered overlapping.\n",
    "\n",
    "**Constraints:**\n",
    "\n",
    "- `1 <= intervals.length <= 10000`\n",
    "- `intervals[i].length == 2`\n",
    "- `0 <= starti <= endi <= 10000`"
   ]
  },
  {
   "cell_type": "code",
   "execution_count": 1,
   "id": "7b277faa",
   "metadata": {},
   "outputs": [
    {
     "data": {
      "text/plain": [
       "[[1, 6], [8, 10], [15, 18]]"
      ]
     },
     "execution_count": 1,
     "metadata": {},
     "output_type": "execute_result"
    }
   ],
   "source": [
    "class Solution:\n",
    "    def merge(self, intervals):\n",
    "        if len(intervals)==1:\n",
    "            return intervals\n",
    "        intervals = sorted(intervals)\n",
    "        \n",
    "        res = []\n",
    "        for i in range(1,len(intervals)):\n",
    "     \n",
    "            if res and intervals[i][0] <= res[-1][1]:\n",
    "                if res[-1][1] >= intervals[i][1]:\n",
    "                    continuemerge(intervals)\n",
    "                else:\n",
    "                    res.append([res.pop()[0],intervals[i][1]])\n",
    "            \n",
    "            elif intervals[i-1][1] >= intervals[i][0]:\n",
    "                res.append([intervals[i-1][0],max(intervals[i][1],intervals[i-1][1])])\n",
    "                \n",
    "            else:\n",
    "                res.append(intervals[i])\n",
    "                \n",
    "        if intervals[0][1] < intervals[1][0]:\n",
    "            res = [intervals[0]]+res[:]\n",
    "                \n",
    "        return res\n",
    "    \n",
    "obj1 = Solution()\n",
    "intervals = [[1,3],[2,6],[8,10],[15,18]]\n",
    "obj1.merge(intervals)"
   ]
  },
  {
   "cell_type": "markdown",
   "id": "4450fe30",
   "metadata": {},
   "source": [
    "💡 2. **Sort Colors**\n",
    "\n",
    "Given an array `nums` with `n` objects colored red, white, or blue, sort them **[in-place](https://en.wikipedia.org/wiki/In-place_algorithm)** so that objects of the same color are adjacent, with the colors in the order red, white, and blue.\n",
    "\n",
    "We will use the integers `0`, `1`, and `2` to represent the color red, white, and blue, respectively.\n",
    "\n",
    "You must solve this problem without using the library's sort function.\n",
    "\n",
    "**Example 1:**\n",
    "Input: nums = [2,0,2,1,1,0]\n",
    "Output: [0,0,1,1,2,2]\n",
    "\n",
    "**Example 2:**\n",
    "Input: nums = [2,0,1]\n",
    "Output: [0,1,2]\n",
    "\n",
    "**Constraints:**\n",
    "\n",
    "- `n == nums.length`\n",
    "- `1 <= n <= 300`\n",
    "- `nums[i]` is either `0`, `1`, or `2`."
   ]
  },
  {
   "cell_type": "code",
   "execution_count": 2,
   "id": "3a20391a",
   "metadata": {},
   "outputs": [
    {
     "data": {
      "text/plain": [
       "[0, 0, 1, 1, 2, 2]"
      ]
     },
     "execution_count": 2,
     "metadata": {},
     "output_type": "execute_result"
    }
   ],
   "source": [
    "class Solution:\n",
    "    def sortColors(self, nums):\n",
    "\n",
    "        red, white, blue = 0, 0, len(nums) - 1\n",
    "\n",
    "        while white <= blue:\n",
    "            if nums[white] == 0:\n",
    "                nums[white], nums[red] = nums[red], nums[white]\n",
    "                red += 1\n",
    "                white += 1\n",
    "            elif nums[white] == 1:\n",
    "                white += 1\n",
    "            else:\n",
    "                nums[white], nums[blue] = nums[blue], nums[white]\n",
    "                blue -= 1\n",
    "                \n",
    "        return nums\n",
    "                \n",
    "obj1 = Solution()\n",
    "nums = [2,0,2,1,1,0] \n",
    "obj1.sortColors(nums)"
   ]
  },
  {
   "cell_type": "markdown",
   "id": "25d1e2b8",
   "metadata": {},
   "source": [
    "💡**3. First Bad Version Solution**\n",
    "\n",
    "You are a product manager and currently leading a team to develop a new product. Unfortunately, the latest version of your product fails the quality check. Since each version is developed based on the previous version, all the versions after a bad version are also bad.\n",
    "\n",
    "Suppose you have `n` versions `[1, 2, ..., n]` and you want to find out the first bad one, which causes all the following ones to be bad.\n",
    "\n",
    "You are given an API `bool isBadVersion(version)` which returns whether `version` is bad. Implement a function to find the first bad version. You should minimize the number of calls to the API.\n",
    "\n",
    "**Example 1:**\n",
    "Input: n = 5, bad = 4\n",
    "Output: 4\n",
    "Explanation:\n",
    "call isBadVersion(3) -> false\n",
    "call isBadVersion(5) -> true\n",
    "call isBadVersion(4) -> true\n",
    "Then 4 is the first bad version.\n",
    "\n",
    "**Example 2:**\n",
    "Input: n = 1, bad = 1\n",
    "Output: 1\n",
    "\n",
    "**Constraints:**\n",
    "\n",
    "- `1 <= bad <= n <= 2^31 - 1`"
   ]
  },
  {
   "cell_type": "code",
   "execution_count": 12,
   "id": "27d87196",
   "metadata": {},
   "outputs": [
    {
     "data": {
      "text/plain": [
       "5"
      ]
     },
     "execution_count": 12,
     "metadata": {},
     "output_type": "execute_result"
    }
   ],
   "source": [
    "def firstBadVersion(n,bad):\n",
    "    left, right = n, bad\n",
    "    while n < bad:\n",
    "        mid = n + (bad - n) // 2\n",
    "        if isBadVersion(mid):\n",
    "            bad = mid\n",
    "        else:\n",
    "            n = mid + 1\n",
    "    return n\n",
    "\n",
    "bad = 4\n",
    "n = 5\n",
    "firstBadVersion(n, bad)"
   ]
  },
  {
   "cell_type": "markdown",
   "id": "e2835182",
   "metadata": {},
   "source": [
    "💡 **4. Maximum Gap**\n",
    "\n",
    "Given an integer array `nums`, return *the maximum difference between two successive elements in its sorted form*. If the array contains less than two elements, return `0`.\n",
    "\n",
    "You must write an algorithm that runs in linear time and uses linear extra space.\n",
    "\n",
    "**Example 1:**\n",
    "Input: nums = [3,6,9,1]\n",
    "Output: 3\n",
    "Explanation: The sorted form of the array is [1,3,6,9], either (3,6) or (6,9) has the maximum difference 3.\n",
    "\n",
    "**Example 2:**\n",
    "Input: nums = [10]\n",
    "Output: 0\n",
    "Explanation: The array contains less than 2 elements, therefore return 0.\n",
    "\n",
    "**Constraints:**\n",
    "\n",
    "- `1 <= nums.length <= 10^5`\n",
    "- `0 <= nums[i] <= 10^9`"
   ]
  },
  {
   "cell_type": "code",
   "execution_count": 14,
   "id": "35f91f2e",
   "metadata": {},
   "outputs": [
    {
     "data": {
      "text/plain": [
       "0"
      ]
     },
     "execution_count": 14,
     "metadata": {},
     "output_type": "execute_result"
    }
   ],
   "source": [
    "def maximumGap(nums):\n",
    "    if len(nums)<2:\n",
    "        return 0\n",
    "    else:\n",
    "        nums=sorted(nums)\n",
    "        arr=[]\n",
    "        for i in range(len(nums)):\n",
    "            arr.append(nums[i]-nums[i-1])\n",
    "    return max(arr)\n",
    "\n",
    "nums = [10]  #[3,6,9,1]\n",
    "maximumGap(nums)"
   ]
  },
  {
   "cell_type": "markdown",
   "id": "c557f3dc",
   "metadata": {},
   "source": [
    "💡 **5. Contains Duplicate**\n",
    "\n",
    "Given an integer array `nums`, return `true` if any value appears **at least twice** in the array, and return `false` if every element is distinct.\n",
    "\n",
    "**Example 1:**\n",
    "Input: nums = [1,2,3,1]\n",
    "Output: true\n",
    "\n",
    "**Example 2:**\n",
    "Input: nums = [1,2,3,4]\n",
    "Output: false\n",
    "\n",
    "**Example 3:**\n",
    "Input: nums = [1,1,1,3,3,4,3,2,4,2]\n",
    "Output: true\n",
    "\n",
    "**Constraints:**\n",
    "\n",
    "- `1 <= nums.length <= 10^5`\n",
    "- `109 <= nums[i] <= 10^9`"
   ]
  },
  {
   "cell_type": "code",
   "execution_count": 20,
   "id": "92822849",
   "metadata": {},
   "outputs": [
    {
     "data": {
      "text/plain": [
       "False"
      ]
     },
     "execution_count": 20,
     "metadata": {},
     "output_type": "execute_result"
    }
   ],
   "source": [
    "def duplicateData(nums):\n",
    "    for i in nums:\n",
    "        if nums.count(i) > 1:\n",
    "            return True\n",
    "        else:\n",
    "            return False\n",
    "\n",
    "nums = [1,2,3,4]  #[1,2,3,1]\n",
    "duplicateData(nums)"
   ]
  },
  {
   "cell_type": "markdown",
   "id": "93fdde8f",
   "metadata": {},
   "source": [
    "💡 **6. Minimum Number of Arrows to Burst Balloons**\n",
    "\n",
    "There are some spherical balloons taped onto a flat wall that represents the XY-plane. The balloons are represented as a 2D integer array `points` where `points[i] = [xstart, xend]` denotes a balloon whose **horizontal diameter** stretches between `xstart` and `xend`. You do not know the exact y-coordinates of the balloons.\n",
    "\n",
    "Arrows can be shot up **directly vertically** (in the positive y-direction) from different points along the x-axis. A balloon with `xstart` and `xend` is **burst** by an arrow shot at `x` if `xstart <= x <= xend`. There is **no limit** to the number of arrows that can be shot. A shot arrow keeps traveling up infinitely, bursting any balloons in its path.\n",
    "\n",
    "Given the array `points`, return *the **minimum** number of arrows that must be shot to burst all balloons*.\n",
    "\n",
    "**Example 1:**\n",
    "Input: points = [[10,16],[2,8],[1,6],[7,12]]\n",
    "Output: 2\n",
    "Explanation: The balloons can be burst by 2 arrows:\n",
    "- Shoot an arrow at x = 6, bursting the balloons [2,8] and [1,6].\n",
    "- Shoot an arrow at x = 11, bursting the balloons [10,16] and [7,12].\n",
    "\n",
    "**Example 2:**\n",
    "Input: points = [[1,2],[3,4],[5,6],[7,8]]\n",
    "Output: 4\n",
    "Explanation: One arrow needs to be shot for each balloon for a total of 4 arrows.\n",
    "\n",
    "**Example 3:**\n",
    "Input: points = [[1,2],[2,3],[3,4],[4,5]]\n",
    "Output: 2\n",
    "Explanation: The balloons can be burst by 2 arrows:\n",
    "- Shoot an arrow at x = 2, bursting the balloons [1,2] and [2,3].\n",
    "- Shoot an arrow at x = 4, bursting the balloons [3,4] and [4,5].\n",
    "\n",
    "**Constraints:**\n",
    "\n",
    "- `1 <= points.length <= 10^5`\n",
    "- `points[i].length == 2`\n",
    "- `231 <= xstart < xend <= 2^31 - 1`"
   ]
  },
  {
   "cell_type": "code",
   "execution_count": 22,
   "id": "acf01245",
   "metadata": {},
   "outputs": [
    {
     "data": {
      "text/plain": [
       "2"
      ]
     },
     "execution_count": 22,
     "metadata": {},
     "output_type": "execute_result"
    }
   ],
   "source": [
    "def findMinArrowShots(points): \n",
    "    points.sort(key = lambda x: x[1])\n",
    "    end = points[0][1]\n",
    "    count = 1\n",
    "   \n",
    "    for s,e in points[1:]:\n",
    "        if s > end:\n",
    "            count += 1\n",
    "            end = e\n",
    "\n",
    "    return count\n",
    "\n",
    "points = [[10,16],[2,8],[1,6],[7,12]]\n",
    "findMinArrowShots(points)"
   ]
  },
  {
   "cell_type": "markdown",
   "id": "e54253fe",
   "metadata": {},
   "source": [
    "💡 **7. Longest Increasing Subsequence**\n",
    "\n",
    "Given an integer array `nums`, return *the length of the longest **strictly increasing***\n",
    "\n",
    "***subsequence***\n",
    "\n",
    "**Example 1:**\n",
    "Input: nums = [10,9,2,5,3,7,101,18]\n",
    "Output: 4\n",
    "Explanation: The longest increasing subsequence is [2,3,7,101], therefore the length is 4.\n",
    "\n",
    "**Example 2:**\n",
    "Input: nums = [0,1,0,3,2,3]\n",
    "Output: 4\n",
    "    \n",
    "**Example 3:**\n",
    "Input: nums = [7,7,7,7,7,7,7]\n",
    "Output: 1\n",
    "\n",
    "**Constraints:**\n",
    "\n",
    "- `1 <= nums.length <= 2500`\n",
    "- `-10^4 <= nums[i] <= 10^4`"
   ]
  },
  {
   "cell_type": "code",
   "execution_count": 24,
   "id": "5c3cb815",
   "metadata": {},
   "outputs": [
    {
     "data": {
      "text/plain": [
       "1"
      ]
     },
     "execution_count": 24,
     "metadata": {},
     "output_type": "execute_result"
    }
   ],
   "source": [
    "def lengthOfLIS(nums):\n",
    "    dp=[0]*(len(nums))\n",
    "    dp[0]=1\n",
    "    for i in range(1,len(nums)):\n",
    "        maxi=0\n",
    "        for j in range(0,i):\n",
    "            if(nums[i]>nums[j]):\n",
    "                maxi=max(maxi,dp[j])\n",
    "        dp[i]=1+maxi\n",
    "\n",
    "    return max(dp)\n",
    "\n",
    "#nums = [10,9,2,5,3,7,101,18]\n",
    "nums = [7,7,7,7,7,7,7]\n",
    "lengthOfLIS(nums)"
   ]
  },
  {
   "cell_type": "markdown",
   "id": "9b8764ac",
   "metadata": {},
   "source": [
    "💡 **8. 132 Pattern**\n",
    "\n",
    "Given an array of `n` integers `nums`, a **132 pattern** is a subsequence of three integers `nums[i]`, `nums[j]` and `nums[k]` such that `i < j < k` and `nums[i] < nums[k] < nums[j]`.\n",
    "\n",
    "Return `true` *if there is a **132 pattern** in* `nums`*, otherwise, return* `false`*.*\n",
    "\n",
    "**Example 1:**\n",
    "Input: nums = [1,2,3,4]\n",
    "Output: false\n",
    "Explanation: There is no 132 pattern in the sequence.\n",
    "\n",
    "**Example 2:**\n",
    "Input: nums = [3,1,4,2]\n",
    "Output: true\n",
    "Explanation: There is a 132 pattern in the sequence: [1, 4, 2].\n",
    "\n",
    "**Example 3:**\n",
    "Input: nums = [-1,3,2,0]\n",
    "Output: true\n",
    "Explanation: There are three 132 patterns in the sequence: [-1, 3, 2], [-1, 3, 0] and [-1, 2, 0].\n",
    "\n",
    "**Constraints:**\n",
    "\n",
    "- `n == nums.length`\n",
    "- `1 <= n <= 2 * 10^5`\n",
    "- `-10^9 <= nums[i] <= 10^9`"
   ]
  },
  {
   "cell_type": "code",
   "execution_count": 27,
   "id": "4eebaffb",
   "metadata": {},
   "outputs": [
    {
     "data": {
      "text/plain": [
       "True"
      ]
     },
     "execution_count": 27,
     "metadata": {},
     "output_type": "execute_result"
    }
   ],
   "source": [
    "import math\n",
    "\n",
    "def find132pattern(nums):\n",
    "    if len(nums)<3:\n",
    "        return False\n",
    "\n",
    "    second_num = -math.inf\n",
    "    stck = []\n",
    "    \n",
    "    for i in range(len(nums) - 1, -1, -1):\n",
    "        if nums[i] < second_num:\n",
    "            return True\n",
    "       \n",
    "        while stck and stck[-1] < nums[i]:\n",
    "            second_num = stck.pop()  \n",
    "\n",
    "        stck.append(nums[i])\n",
    "    return False\n",
    "\n",
    "#nums = [1,2,3,4]\n",
    "nums = [3,1,4,2]\n",
    "find132pattern(nums)"
   ]
  }
 ],
 "metadata": {
  "kernelspec": {
   "display_name": "Python 3 (ipykernel)",
   "language": "python",
   "name": "python3"
  },
  "language_info": {
   "codemirror_mode": {
    "name": "ipython",
    "version": 3
   },
   "file_extension": ".py",
   "mimetype": "text/x-python",
   "name": "python",
   "nbconvert_exporter": "python",
   "pygments_lexer": "ipython3",
   "version": "3.10.9"
  }
 },
 "nbformat": 4,
 "nbformat_minor": 5
}
