{
 "cells": [
  {
   "cell_type": "markdown",
   "id": "8711c7c7",
   "metadata": {},
   "source": [
    "**Question 1**\n",
    "Given an integer array nums of length n and an integer target, find three integers\n",
    "in nums such that the sum is closest to the target.\n",
    "Return the sum of the three integers.\n",
    "\n",
    "You may assume that each input would have exactly one solution.\n",
    "\n",
    "Example 1:\n",
    "Input: nums = [-1,2,1,-4], target = 1\n",
    "Output: 2\n",
    "\n",
    "Explanation: The sum that is closest to the target is 2. (-1 + 2 + 1 = 2)."
   ]
  },
  {
   "cell_type": "code",
   "execution_count": 2,
   "id": "bb7ee032",
   "metadata": {},
   "outputs": [
    {
     "data": {
      "text/plain": [
       "2"
      ]
     },
     "execution_count": 2,
     "metadata": {},
     "output_type": "execute_result"
    }
   ],
   "source": [
    "def three_Sum(nums, target):\n",
    "    nums.sort()\n",
    "    return k_Sum(nums, 3, target)\n",
    "\n",
    "def k_Sum(nums, k, target):\n",
    "    N = len(nums)\n",
    "    if N == k:\n",
    "        return sum(nums[:k])\n",
    "\n",
    "    current = sum(nums[:k])\n",
    "    if current >= target:\n",
    "        return current\n",
    "\n",
    "    current = sum(nums[-k:])\n",
    "    if current <= target:\n",
    "        return current\n",
    "\n",
    "    if k == 1:\n",
    "        return min([(x, abs(target - x)) for x in nums], key = lambda x: x[1])[0]\n",
    "\n",
    "    closest = sum(nums[:k])\n",
    "    for i, x in enumerate(nums[:-k+1]):\n",
    "        if i>0 and x == nums[i-1]:\n",
    "            continue\n",
    "        current = KSumClosest(nums[i+1:], k-1, target - x) + x\n",
    "        if abs(target - current) < abs(target - closest):\n",
    "            if current == target:\n",
    "                return target\n",
    "            else:\n",
    "                closest = current\n",
    "\n",
    "    return closest\n",
    "\n",
    "three_Sum([-1,2,1,-4],1)"
   ]
  },
  {
   "cell_type": "markdown",
   "id": "1eec2626",
   "metadata": {},
   "source": [
    "**Question 2**\n",
    "Given an array nums of n integers, return an array of all the unique quadruplets\n",
    "[nums[a], nums[b], nums[c], nums[d]] such that:\n",
    "           ● 0 <= a, b, c, d < n\n",
    "           ● a, b, c, and d are distinct.\n",
    "           ● nums[a] + nums[b] + nums[c] + nums[d] == target\n",
    "\n",
    "You may return the answer in any order.\n",
    "\n",
    "Example 1:\n",
    "Input: nums = [1,0,-1,0,-2,2], target = 0\n",
    "Output: [[-2,-1,1,2],[-2,0,0,2],[-1,0,0,1]]"
   ]
  },
  {
   "cell_type": "code",
   "execution_count": 4,
   "id": "0cb1d348",
   "metadata": {},
   "outputs": [
    {
     "data": {
      "text/plain": [
       "[[-2, -1, 1, 2], [-2, 0, 0, 2], [-1, 0, 0, 1]]"
      ]
     },
     "execution_count": 4,
     "metadata": {},
     "output_type": "execute_result"
    }
   ],
   "source": [
    "def fourSum(nums, target):\n",
    "    nums.sort()\n",
    "    results = []\n",
    "    helper(nums, target, 4, [], results)\n",
    "    return results\n",
    "\n",
    "def helper(nums, target, N, res, results):\n",
    "    if len(nums) < N or N < 2: \n",
    "        return\n",
    "    if N == 2:\n",
    "        output_2sum = twoSum(nums, target)\n",
    "        if output_2sum != []:\n",
    "            for idx in output_2sum:\n",
    "                results.append(res + idx)\n",
    "    else: \n",
    "        for i in range(len(nums) -N +1): \n",
    "            if nums[i]*N > target or nums[-1]*N < target: \n",
    "                break\n",
    "            if i == 0 or i > 0 and nums[i-1] != nums[i]:\n",
    "                helper(nums[i+1:], target-nums[i], N-1, res + [nums[i]], results)\n",
    "\n",
    "def twoSum(nums, target):\n",
    "    res = []\n",
    "    left = 0\n",
    "    right = len(nums) - 1 \n",
    "    while left < right: \n",
    "        temp_sum = nums[left] + nums[right] \n",
    "\n",
    "        if temp_sum == target:\n",
    "            res.append([nums[left], nums[right]])\n",
    "            right -= 1\n",
    "            left += 1\n",
    "            while left < right and nums[left] == nums[left - 1]:\n",
    "                left += 1\n",
    "            while right > left and nums[right] == nums[right + 1]:\n",
    "                right -= 1\n",
    "\n",
    "        elif temp_sum < target: \n",
    "            left +=1 \n",
    "        else: \n",
    "            right -= 1\n",
    "\n",
    "    return res\n",
    "\n",
    "fourSum( [1,0,-1,0,-2,2],0)"
   ]
  },
  {
   "cell_type": "markdown",
   "id": "d914a062",
   "metadata": {},
   "source": [
    "**Question 3**\n",
    "A permutation of an array of integers is an arrangement of its members into a\n",
    "sequence or linear order.\n",
    "\n",
    "For example, for arr = [1,2,3], the following are all the permutations of arr:\n",
    "[1,2,3], [1,3,2], [2, 1, 3], [2, 3, 1], [3,1,2], [3,2,1].\n",
    "\n",
    "The next permutation of an array of integers is the next lexicographically greater\n",
    "permutation of its integer. More formally, if all the permutations of the array are\n",
    "sorted in one container according to their lexicographical order, then the next\n",
    "permutation of that array is the permutation that follows it in the sorted container.\n",
    "\n",
    "If such an arrangement is not possible, the array must be rearranged as the\n",
    "lowest possible order (i.e., sorted in ascending order).\n",
    "\n",
    "● For example, the next permutation of arr = [1,2,3] is [1,3,2].\n",
    "● Similarly, the next permutation of arr = [2,3,1] is [3,1,2].\n",
    "● While the next permutation of arr = [3,2,1] is [1,2,3] because [3,2,1] does not\n",
    "have a lexicographical larger rearrangement.\n",
    "\n",
    "Given an array of integers nums, find the next permutation of nums.\n",
    "The replacement must be in place and use only constant extra memory.\n",
    "\n",
    "**Example 1:**\n",
    "Input: nums = [1,2,3]\n",
    "Output: [1,3,2]"
   ]
  },
  {
   "cell_type": "code",
   "execution_count": 17,
   "id": "627c2a33",
   "metadata": {},
   "outputs": [
    {
     "data": {
      "text/plain": [
       "[1, 3, 2]"
      ]
     },
     "execution_count": 17,
     "metadata": {},
     "output_type": "execute_result"
    }
   ],
   "source": [
    "def nextPermutation(nums):\n",
    "    l=len(nums)-2\n",
    "    while l>=0:\n",
    "        if nums[l]<nums[l+1]:\n",
    "            s=len(nums)-1\n",
    "            while s>l:\n",
    "                if nums[s]>nums[l]:\n",
    "                    nums[l],nums[s]=nums[s],nums[l] \n",
    "                    arr=(nums[:l+1]+sorted(nums[l+1:]))\n",
    "                    nums[:]=arr[:]\n",
    "                    return nums\n",
    "                s-=1\n",
    "        l-=1\n",
    "    else:\n",
    "        nums.reverse()\n",
    "        return nums\n",
    "nextPermutation([1,2,3]) #[3,2,1]"
   ]
  },
  {
   "cell_type": "markdown",
   "id": "d9820201",
   "metadata": {},
   "source": [
    "**Question 4**\n",
    "Given a sorted array of distinct integers and a target value, return the index if the\n",
    "target is found. If not, return the index where it would be if it were inserted in\n",
    "order.\n",
    "\n",
    "You must write an algorithm with O(log n) runtime complexity.\n",
    "\n",
    "Example 1:\n",
    "Input: nums = [1,3,5,6], target = 5\n",
    "Output: 2"
   ]
  },
  {
   "cell_type": "code",
   "execution_count": 19,
   "id": "f9a0ffdf",
   "metadata": {},
   "outputs": [
    {
     "data": {
      "text/plain": [
       "2"
      ]
     },
     "execution_count": 19,
     "metadata": {},
     "output_type": "execute_result"
    }
   ],
   "source": [
    "def searchInsert(nums, target):\n",
    "    start = 0\n",
    "    end = len(nums) - 1\n",
    "    ans = len(nums)\n",
    "\n",
    "    while start <= end:\n",
    "        mid = (start + end) // 2\n",
    "\n",
    "        if nums[mid] == target:\n",
    "            return mid\n",
    "        elif nums[mid] < target:\n",
    "            start = mid + 1\n",
    "        else:\n",
    "            ans = mid\n",
    "            end = mid - 1\n",
    "\n",
    "    return ans\n",
    "\n",
    "searchInsert([1,3,5,6],5)"
   ]
  },
  {
   "cell_type": "markdown",
   "id": "e8b275d4",
   "metadata": {},
   "source": [
    "💡 **Question 5**\n",
    "You are given a large integer represented as an integer array digits, where each\n",
    "digits[i] is the ith digit of the integer. The digits are ordered from most significant\n",
    "to least significant in left-to-right order. The large integer does not contain any\n",
    "leading 0's.\n",
    "\n",
    "Increment the large integer by one and return the resulting array of digits.\n",
    "\n",
    "**Example 1:**\n",
    "Input: digits = [1,2,3]\n",
    "Output: [1,2,4]\n",
    "\n",
    "**Explanation:** The array represents the integer 123.\n",
    "Incrementing by one gives 123 + 1 = 124.\n",
    "Thus, the result should be [1,2,4]."
   ]
  },
  {
   "cell_type": "code",
   "execution_count": 22,
   "id": "f78baca7",
   "metadata": {},
   "outputs": [
    {
     "data": {
      "text/plain": [
       "[1, 2, 4]"
      ]
     },
     "execution_count": 22,
     "metadata": {},
     "output_type": "execute_result"
    }
   ],
   "source": [
    "def plusOne(digits):\n",
    "    arr_increment = str(int(\"\".join(map(str, digits))) + 1)\n",
    "    return list(map(int, arr_increment))\n",
    "\n",
    "plusOne([1,2,3])"
   ]
  },
  {
   "cell_type": "markdown",
   "id": "586f78fe",
   "metadata": {},
   "source": [
    "**Question 6**\n",
    "Given a non-empty array of integers nums, every element appears twice except\n",
    "for one. Find that single one.\n",
    "\n",
    "You must implement a solution with a linear runtime complexity and use only\n",
    "constant extra space.\n",
    "\n",
    "Example 1:\n",
    "Input: nums = [2,2,1]\n",
    "Output: 1"
   ]
  },
  {
   "cell_type": "code",
   "execution_count": 23,
   "id": "b988f270",
   "metadata": {},
   "outputs": [
    {
     "data": {
      "text/plain": [
       "1"
      ]
     },
     "execution_count": 23,
     "metadata": {},
     "output_type": "execute_result"
    }
   ],
   "source": [
    "def singleNumber(nums):\n",
    "    ones = 0\n",
    "    twos = 0\n",
    "    for num in nums:\n",
    "        ones = (ones^num)& (~twos)\n",
    "        twos = (twos^num)& (~ones)\n",
    "    return ones\n",
    "\n",
    "singleNumber([2,2,1])"
   ]
  },
  {
   "cell_type": "markdown",
   "id": "6a1825d4",
   "metadata": {},
   "source": [
    "**Question 7**\n",
    "You are given an inclusive range [lower, upper] and a sorted unique integer array\n",
    "nums, where all elements are within the inclusive range.\n",
    "\n",
    "A number x is considered missing if x is in the range [lower, upper] and x is not in\n",
    "nums.\n",
    "\n",
    "Return the shortest sorted list of ranges that exactly covers all the missing\n",
    "numbers. That is, no element of nums is included in any of the ranges, and each\n",
    "missing number is covered by one of the ranges.\n",
    "\n",
    "Example 1:\n",
    "Input: nums = [0,1,3,50,75], lower = 0, upper = 99\n",
    "Output: [[2,2],[4,49],[51,74],[76,99]]\n",
    "\n",
    "Explanation: The ranges are:\n",
    "[2,2]\n",
    "[4,49]\n",
    "[51,74]\n",
    "[76,99]"
   ]
  },
  {
   "cell_type": "code",
   "execution_count": 19,
   "id": "fb3390bb",
   "metadata": {},
   "outputs": [
    {
     "data": {
      "text/plain": [
       "[range(2, 2), range(2, 49), range(2, 74), range(2, 99)]"
      ]
     },
     "execution_count": 19,
     "metadata": {},
     "output_type": "execute_result"
    }
   ],
   "source": [
    " def findMissingRanges(nums,lower, upper):\n",
    "    result = []\n",
    "    next = lower\n",
    "    for i in range(len(nums)):\n",
    "        if (nums[i] < next):\n",
    "            continue\n",
    "        \n",
    "        if (nums[i] == next):\n",
    "            next += 1\n",
    "            continue\n",
    "        \n",
    "        result.append(range(next, nums[i]-1))\n",
    "                      \n",
    "    if (next <= upper):\n",
    "        result.append(range(next, upper))    \n",
    "    return result\n",
    "\n",
    "findMissingRanges([0,1,3,50,75], 0, 99)"
   ]
  },
  {
   "cell_type": "markdown",
   "id": "dde8ce7e",
   "metadata": {},
   "source": [
    "**Question 8**\n",
    "Given an array of meeting time intervals where intervals[i] = [starti, endi],\n",
    "determine if a person could attend all meetings.\n",
    "\n",
    "Example 1:\n",
    "Input: intervals = [[0,30],[5,10],[15,20]]\n",
    "Output: false"
   ]
  },
  {
   "cell_type": "code",
   "execution_count": 3,
   "id": "a4bb9680",
   "metadata": {},
   "outputs": [
    {
     "data": {
      "text/plain": [
       "False"
      ]
     },
     "execution_count": 3,
     "metadata": {},
     "output_type": "execute_result"
    }
   ],
   "source": [
    "def canAttendMeetings(intervals):\n",
    "    new_intervals = sorted(intervals, key=lambda x: x[0])\n",
    "    for i in range(1,len(new_intervals)):\n",
    "        if new_intervals[i-1][1] > new_intervals[i][0]:return False\n",
    "    return True\n",
    "\n",
    "canAttendMeetings([[0,30],[5,10],[15,20]])"
   ]
  }
 ],
 "metadata": {
  "kernelspec": {
   "display_name": "Python 3 (ipykernel)",
   "language": "python",
   "name": "python3"
  },
  "language_info": {
   "codemirror_mode": {
    "name": "ipython",
    "version": 3
   },
   "file_extension": ".py",
   "mimetype": "text/x-python",
   "name": "python",
   "nbconvert_exporter": "python",
   "pygments_lexer": "ipython3",
   "version": "3.10.9"
  }
 },
 "nbformat": 4,
 "nbformat_minor": 5
}
