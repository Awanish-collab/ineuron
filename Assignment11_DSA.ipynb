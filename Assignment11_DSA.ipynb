{
 "cells": [
  {
   "cell_type": "markdown",
   "id": "80b0f270",
   "metadata": {},
   "source": [
    "💡 **Question 1**\n",
    "\n",
    "Given a non-negative integer `x`, return *the square root of* `x` *rounded down to the nearest integer*. The returned integer should be **non-negative** as well.\n",
    "\n",
    "You **must not use** any built-in exponent function or operator.\n",
    "\n",
    "- For example, do not use `pow(x, 0.5)` in c++ or `x ** 0.5` in python.\n",
    "\n",
    "**Example 1:**\n",
    "Input: x = 4\n",
    "Output: 2\n",
    "Explanation: The square root of 4 is 2, so we return 2."
   ]
  },
  {
   "cell_type": "code",
   "execution_count": 9,
   "id": "1236d49f",
   "metadata": {},
   "outputs": [
    {
     "name": "stdout",
     "output_type": "stream",
     "text": [
      "15\n"
     ]
    },
    {
     "data": {
      "text/plain": [
       "3"
      ]
     },
     "execution_count": 9,
     "metadata": {},
     "output_type": "execute_result"
    }
   ],
   "source": [
    "def mySqrtNearestFloorNum(x):\n",
    "    if (x == 0 or x == 1):\n",
    "        return x\n",
    "    \n",
    "    i = 1\n",
    "    result = 1\n",
    "    while (result <= x):\n",
    "        i += 1\n",
    "        result = i * i\n",
    "        #print(i, \" : \",result)\n",
    " \n",
    "    return i - 1\n",
    "\n",
    "x = int(input())\n",
    "mySqrtNearestFloorNum(x)"
   ]
  },
  {
   "cell_type": "markdown",
   "id": "e17a3687",
   "metadata": {},
   "source": [
    "💡 **Question 2**\n",
    "\n",
    "A peak element is an element that is strictly greater than its neighbors.\n",
    "\n",
    "Given a **0-indexed** integer array `nums`, find a peak element, and return its index. If the array contains multiple peaks, return the index to **any of the peaks**.\n",
    "\n",
    "You may imagine that `nums[-1] = nums[n] = -∞`. In other words, an element is always considered to be strictly greater than a neighbor that is outside the array.\n",
    "\n",
    "You must write an algorithm that runs in `O(log n)` time.\n",
    "\n",
    "**Example 1:**\n",
    "Input: nums = [1,2,3,1]\n",
    "Output: 2\n",
    "Explanation: 3 is a peak element and your function should return the index number 2.\n",
    "\n",
    "**Example 2:**\n",
    "Input: nums = [1,2,1,3,5,6,4]\n",
    "Output: 5\n",
    "Explanation: Your function can return either index number 1 where the peak element is 2, or index number 5 where the peak element is 6."
   ]
  },
  {
   "cell_type": "code",
   "execution_count": 11,
   "id": "141cc761",
   "metadata": {},
   "outputs": [
    {
     "data": {
      "text/plain": [
       "5"
      ]
     },
     "execution_count": 11,
     "metadata": {},
     "output_type": "execute_result"
    }
   ],
   "source": [
    "def getLargestElement(nums):\n",
    "    n = len(nums)\n",
    "    l, r = 0, n - 1\n",
    "    while l < r:\n",
    "        mid = (l + r) >> 1\n",
    "        if nums[mid] < nums[mid + 1]:\n",
    "            l =  mid + 1\n",
    "        else:\n",
    "            r = mid \n",
    "    return l\n",
    "\n",
    "#nums = [1,2,3,1]\n",
    "nums = [1,2,1,3,5,6,4]\n",
    "getLargestElement(nums)"
   ]
  },
  {
   "cell_type": "markdown",
   "id": "9cea1db8",
   "metadata": {},
   "source": [
    "💡 **Question 3**\n",
    "\n",
    "****\n",
    "\n",
    "Given an array `nums` containing `n` distinct numbers in the range `[0, n]`, return *the only number in the range that is missing from the array.*\n",
    "\n",
    "**Example 1:**\n",
    "Input: nums = [3,0,1]\n",
    "Output: 2\n",
    "Explanation: n = 3 since there are 3 numbers, so all numbers are in the range [0,3]. 2 is the missing number in the range since it does not appear in nums.\n",
    "\n",
    "**Example 2:**\n",
    "Input: nums = [0,1]\n",
    "Output: 2\n",
    "Explanation: n = 2 since there are 2 numbers, so all numbers are in the range [0,2]. 2 is the missing number in the range since it does not appear in nums.\n",
    "\n",
    "**Example 3:**\n",
    "Input: nums = [9,6,4,2,3,5,7,0,1]\n",
    "Output: 8\n",
    "Explanation: n = 9 since there are 9 numbers, so all numbers are in the range [0,9]. 8 is the missing number in the range since it does not appear in nums."
   ]
  },
  {
   "cell_type": "code",
   "execution_count": 14,
   "id": "0a21b8d1",
   "metadata": {},
   "outputs": [
    {
     "data": {
      "text/plain": [
       "8"
      ]
     },
     "execution_count": 14,
     "metadata": {},
     "output_type": "execute_result"
    }
   ],
   "source": [
    "def missingNumber(nums):\n",
    "    n = len(nums)\n",
    "    return ((n * (n +1)) // 2 - sum(nums))\n",
    "\n",
    "#nums = [3,0,1]\n",
    "nums = [9,6,4,2,3,5,7,0,1]\n",
    "missingNumber(nums)"
   ]
  },
  {
   "cell_type": "markdown",
   "id": "c3cc1607",
   "metadata": {},
   "source": [
    "💡 **Question 4**\n",
    "\n",
    "Given an array of integers `nums` containing `n + 1` integers where each integer is in the range `[1, n]` inclusive.\n",
    "\n",
    "There is only **one repeated number** in `nums`, return *this repeated number*.\n",
    "\n",
    "You must solve the problem **without** modifying the array `nums` and uses only constant extra space.\n",
    "\n",
    "**Example 1:**\n",
    "Input: nums = [1,3,4,2,2]\n",
    "Output: 2\n",
    "\n",
    "**Example 2:**\n",
    "Input: nums = [3,1,3,4,2]\n",
    "Output: 3"
   ]
  },
  {
   "cell_type": "code",
   "execution_count": 17,
   "id": "8d8a6c94",
   "metadata": {},
   "outputs": [
    {
     "data": {
      "text/plain": [
       "3"
      ]
     },
     "execution_count": 17,
     "metadata": {},
     "output_type": "execute_result"
    }
   ],
   "source": [
    "def checkDuplicate(nums):\n",
    "    for k in nums:\n",
    "        a = abs(k)\n",
    "        if nums[a-1] < 0: \n",
    "            return a\n",
    "        else:\n",
    "            nums[a-1]*=-1\n",
    "    \n",
    "#nums = [1,3,4,2,2]\n",
    "nums = [3,1,3,4,2]\n",
    "checkDuplicate(nums)"
   ]
  },
  {
   "cell_type": "markdown",
   "id": "c9d05d8d",
   "metadata": {},
   "source": [
    "💡 **Question 5**\n",
    "\n",
    "Given two integer arrays `nums1` and `nums2`, return *an array of their intersection*. Each element in the result must be **unique** and you may return the result in **any order**.\n",
    "\n",
    "**Example 1:**\n",
    "Input: nums1 = [1,2,2,1], nums2 = [2,2]\n",
    "Output: [2]\n",
    "\n",
    "**Example 2:**\n",
    "Input: nums1 = [4,9,5], nums2 = [9,4,9,8,4]\n",
    "Output: [9,4]\n",
    "Explanation: [4,9] is also accepted."
   ]
  },
  {
   "cell_type": "code",
   "execution_count": 20,
   "id": "71fe7b65",
   "metadata": {},
   "outputs": [
    {
     "data": {
      "text/plain": [
       "[4, 9]"
      ]
     },
     "execution_count": 20,
     "metadata": {},
     "output_type": "execute_result"
    }
   ],
   "source": [
    "def findIntersectionPoint(nums1, nums2):\n",
    "    sortedArr1 = sorted(nums1)\n",
    "    sortedArr2 = sorted(nums2)\n",
    "\n",
    "    i = 0\n",
    "    j = 0\n",
    "\n",
    "    output = []\n",
    "    while i < len(sortedArr1) and j < len(sortedArr2):\n",
    "        if sortedArr1[i] < sortedArr2[j]:\n",
    "            i += 1\n",
    "        elif sortedArr2[j] < sortedArr1[i]:\n",
    "            j += 1\n",
    "        else:\n",
    "            output.append(sortedArr1[i])\n",
    "            i += 1\n",
    "            j += 1\n",
    "    return output      \n",
    "\n",
    "nums1 = [4,9,5]; nums2 = [9,4,9,8,4]\n",
    "#nums1 = [1,2,2,1]; nums2 = [2,2]\n",
    "findIntersectionPoint(nums1, nums2)"
   ]
  },
  {
   "cell_type": "markdown",
   "id": "5e0b58f3",
   "metadata": {},
   "source": [
    "💡 **Question 6**\n",
    "\n",
    "Suppose an array of length `n` sorted in ascending order is **rotated** between `1` and `n` times. For example, the array `nums = [0,1,2,4,5,6,7]` might become:\n",
    "\n",
    "- `[4,5,6,7,0,1,2]` if it was rotated `4` times.\n",
    "- `[0,1,2,4,5,6,7]` if it was rotated `7` times.\n",
    "\n",
    "Notice that **rotating** an array `[a[0], a[1], a[2], ..., a[n-1]]` 1 time results in the array `[a[n-1], a[0], a[1], a[2], ..., a[n-2]]`.\n",
    "\n",
    "Given the sorted rotated array `nums` of **unique** elements, return *the minimum element of this array*.\n",
    "\n",
    "You must write an algorithm that runs in `O(log n) time.`\n",
    "\n",
    "**Example 1:**\n",
    "Input: nums = [3,4,5,1,2]\n",
    "Output: 1\n",
    "Explanation: The original array was [1,2,3,4,5] rotated 3 times.\n",
    "\n",
    "**Example 2:**\n",
    "Input: nums = [4,5,6,7,0,1,2]\n",
    "Output: 0\n",
    "Explanation: The original array was [0,1,2,4,5,6,7] and it was rotated 4 times.\n",
    "\n",
    "**Example 3:**\n",
    "Input: nums = [11,13,15,17]\n",
    "Output: 11\n",
    "Explanation: The original array was [11,13,15,17] and it was rotated 4 times."
   ]
  },
  {
   "cell_type": "code",
   "execution_count": 23,
   "id": "28ea73f2",
   "metadata": {},
   "outputs": [
    {
     "data": {
      "text/plain": [
       "11"
      ]
     },
     "execution_count": 23,
     "metadata": {},
     "output_type": "execute_result"
    }
   ],
   "source": [
    "def findMin(nums):\n",
    "    hi, lo = len(nums) - 1, 0\n",
    "    while hi - 1 > lo:\n",
    "        mid = (hi + lo)//2\n",
    "        if nums[lo] > nums[mid]: \n",
    "            hi = mid\n",
    "        else: \n",
    "            lo = mid\n",
    "\n",
    "    if nums[hi] > nums[lo]:\n",
    "        return nums[0]\n",
    "    return nums[hi]\n",
    "\n",
    "#nums = [3,4,5,1,2]\n",
    "#nums = [4,5,6,7,0,1,2]\n",
    "nums = [11,13,15,17]\n",
    "findMin(nums)"
   ]
  },
  {
   "cell_type": "markdown",
   "id": "65901191",
   "metadata": {},
   "source": [
    "💡 **Question 7**\n",
    "\n",
    "Given an array of integers `nums` sorted in non-decreasing order, find the starting and ending position of a given `target` value.\n",
    "\n",
    "If `target` is not found in the array, return `[-1, -1]`.\n",
    "\n",
    "You must write an algorithm with `O(log n)` runtime complexity.\n",
    "\n",
    "**Example 1:**\n",
    "Input: nums = [5,7,7,8,8,10], target = 8\n",
    "Output: [3,4]\n",
    "\n",
    "**Example 2:**\n",
    "Input: nums = [5,7,7,8,8,10], target = 6\n",
    "Output: [-1,-1]\n",
    "\n",
    "**Example 3:**\n",
    "Input: nums = [], target = 0\n",
    "Output: [-1,-1]"
   ]
  },
  {
   "cell_type": "code",
   "execution_count": null,
   "id": "66574630",
   "metadata": {},
   "outputs": [],
   "source": []
  },
  {
   "cell_type": "markdown",
   "id": "0378e460",
   "metadata": {},
   "source": [
    "💡 **Question 8**\n",
    "\n",
    "Given two integer arrays `nums1` and `nums2`, return *an array of their intersection*. Each element in the result must appear as many times as it shows in both arrays and you may return the result in **any order**.\n",
    "\n",
    "**Example 1:**\n",
    "Input: nums1 = [1,2,2,1], nums2 = [2,2]\n",
    "Output: [2,2]\n",
    "\n",
    "**Example 2:**\n",
    "Input: nums1 = [4,9,5], nums2 = [9,4,9,8,4]\n",
    "Output: [4,9]\n",
    "Explanation: [9,4] is also accepted."
   ]
  },
  {
   "cell_type": "code",
   "execution_count": 35,
   "id": "54c0e2e8",
   "metadata": {},
   "outputs": [
    {
     "data": {
      "text/plain": [
       "[2, 2]"
      ]
     },
     "execution_count": 35,
     "metadata": {},
     "output_type": "execute_result"
    }
   ],
   "source": [
    "def findIntersectionPoint(nums1, nums2):\n",
    " \n",
    "    sortedArr1 = sorted(nums1)\n",
    "    sortedArr2 = sorted(nums2)\n",
    " \n",
    "    i = 0\n",
    "    j = 0\n",
    "\n",
    "    output = []\n",
    "    while i < len(sortedArr1) and j < len(sortedArr2):\n",
    "        if sortedArr1[i] < sortedArr2[j]:\n",
    "            i += 1\n",
    "        elif sortedArr2[j] < sortedArr1[i]:\n",
    "            j += 1\n",
    "        else:\n",
    "            output.append(sortedArr1[i])\n",
    "            i += 1\n",
    "            j += 1\n",
    "    return output   \n",
    "\n",
    "nums1 = [1,2,2,1]; nums2 = [2,2]\n",
    "#nums1 = [4,9,5]; nums2 = [9,4,9,8,4]\n",
    "findIntersectionPoint(nums1, nums2)"
   ]
  }
 ],
 "metadata": {
  "kernelspec": {
   "display_name": "Python 3 (ipykernel)",
   "language": "python",
   "name": "python3"
  },
  "language_info": {
   "codemirror_mode": {
    "name": "ipython",
    "version": 3
   },
   "file_extension": ".py",
   "mimetype": "text/x-python",
   "name": "python",
   "nbconvert_exporter": "python",
   "pygments_lexer": "ipython3",
   "version": "3.10.9"
  }
 },
 "nbformat": 4,
 "nbformat_minor": 5
}
