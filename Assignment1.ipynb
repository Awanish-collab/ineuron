{
 "cells": [
  {
   "cell_type": "markdown",
   "id": "4b497b76",
   "metadata": {},
   "source": [
    "<h1 style=\"font-weight:bold; color: red; text-align:center;\">Assignment 1 Solution</h1>"
   ]
  },
  {
   "cell_type": "markdown",
   "id": "aab4df56",
   "metadata": {},
   "source": [
    "<h2 style=\"color:blue;\">[1] </h2>\n",
    "\n",
    "<pre style=\"font-size:18px;\">\n",
    "      <b>      *     ->  Expression   </b>\n",
    "      <b>   ‘hello’  ->  Value        </b>\n",
    "      <b>   -87.8    ->  Value        </b>\n",
    "      <b>     -      ->  Expression   </b>\n",
    "      <b>     /      ->  Expression   </b>\n",
    "      <b>     +      ->  Expression   </b>\n",
    "      <b>     6      ->  Value        </b>\n",
    "</pre>"
   ]
  },
  {
   "cell_type": "markdown",
   "id": "b6ce6542",
   "metadata": {},
   "source": [
    "<h2 style=\"color:blue;\">[2] </h2>\n",
    "<pre style=\"font-size:18px;\">\n",
    "   <b>String is collections of characters inside the single or double quotes. We can take input in string.There is no rule for string value we can take numbers, alphabets, etc… inside single/double quotes. But for Variable, there is some rules like we can not start to declare a variable name \twith  numbers, Special characters except underscore( _ ).  \n",
    "We can store a string value into a variable. \n",
    "       E.g; name = “Awanish”   ->  name is a variable name and “Awanish” is string value.</b> \n",
    "</pre>"
   ]
  },
  {
   "cell_type": "markdown",
   "id": "b5e32372",
   "metadata": {},
   "source": [
    "<h2 style=\"color:blue;\">[3] </h2>\n",
    "\n",
    "<pre style=\"font-size:18px;\"> \n",
    "    <b>\n",
    "datatypes are ->  integer, string and Boolean. \n",
    "\n",
    "<span style=\"color: green;\">Integer :-</span>  int()  by this method we can convert numerical string value into Integer. It contains positive or negative   whole numbers (without fractions or decimals). In Python, there is no limit to how long an integer value can be. \n",
    "            e.g;      n = 25 \n",
    "            \n",
    "<span style=\"color: green;\">String :- </span>   str() by this method we can convert any input into String datatype. String is collections of characters inside the single or double quotes.   \n",
    "            e.g;      name = “Awanish” \n",
    "            \n",
    "<span style=\"color: green;\">Boolean :-</span>bool() by this method we can convert any input into Boolean value like True, False. It will give out \n",
    "            e.g;      a = 10; \n",
    "                      print(bool(a)) \n",
    "    </b>\n",
    "</pre>"
   ]
  },
  {
   "cell_type": "markdown",
   "id": "45262f20",
   "metadata": {},
   "source": [
    "<h2 style=\"color:blue;\">[4] </h2>\n",
    "\n",
    "<pre style=\"font-size:18px;\">\n",
    "    <b>\n",
    "        An expression is a combination of operators and operands that is interpreted to produce some other value. In any programming language, an expression is evaluated as per the precedence of its operators. So that if there is more than one operator in an expression, their precedence decides which operation will be performed first. We have many different types of expressions in Python. \n",
    "        \n",
    "<span style=\"color:green;\">Constant Expressions:</span> These are the expressions that have constant values only. \n",
    "x = 15 + 1.3;  print(x) \n",
    "  \n",
    "<span style=\"color:green;\">Arithmetic Expressions:</span>An arithmetic expression is a combination of numeric values,operators, and sometimes parenthesis. The result of this type of expression is also a numeric value. The operators used in these expressions are arithmetic operators like addition, subtraction, etc… \n",
    "x = 40 \n",
    "y = 12 \n",
    "add = x + y \n",
    "sub = x - y \n",
    "pro = x * y \n",
    "div = x / y \n",
    "print(add) \n",
    "print(sub) \n",
    "print(pro) \n",
    "print(div) \n",
    "\n",
    "\n",
    "<span style=\"color:green;\">Integral Expressions:</span> These are the kind of expressions that produce only integer results after all computations and type conversions. \n",
    "a = 13 \n",
    "b = 12.0 \n",
    "c = a + int(b) \n",
    "print(c) \n",
    " \n",
    " \n",
    "<span style=\"color:green;\">Floating Expressions:</span> These are the kind of expressions which produce floating point numbers as result after all computations and type conversions. \n",
    "a = 13 \n",
    "b = 5 \n",
    "   \n",
    "c = a / b \n",
    "print(c) \n",
    "\n",
    "    </b>\n",
    "</pre>"
   ]
  },
  {
   "cell_type": "markdown",
   "id": "2a53a280",
   "metadata": {},
   "source": [
    "<h2 style=\"color:blue;\">[5] </h2>\n",
    "\n",
    "<pre style=\"font-size:18px;\">\n",
    "<b>\n",
    "A statement is a group of expressions and/or statements that you design to carry out a task or an action. \n",
    "Spam = 10  ->  this is statement \n",
    "\n",
    "Expressions are values or execute to values.     \n",
    "     Spam = 10  ->  spam, =, 10 all three a expressions.     \n",
    "</b> \n",
    "</pre>"
   ]
  },
  {
   "cell_type": "markdown",
   "id": "a448524b",
   "metadata": {},
   "source": [
    "<h2 style=\"color:blue;\">[6] </h2>\n",
    "\n",
    "<pre style=\"font-size:18px;\">\n",
    "<b>\n",
    "\n",
    "bacon = 22 \n",
    "bacon + 1  \n",
    "After running this above code, value of bacon will be 22 because in 2nd line bacon + 1 we are not storing in bacon variable. \n",
    "</b>\n",
    "</pre>"
   ]
  },
  {
   "cell_type": "markdown",
   "id": "423a1bc4",
   "metadata": {},
   "source": [
    "<h2 style=\"color:blue;\">[7] </h2>\n",
    "\n",
    "<pre style=\"font-size:18px;\">\n",
    "<b>\n",
    " ‘spam’ + ‘spamspam’  = ‘spamspamspam’  -> here concatenation happen. \n",
    " ‘spam’ * 3 = ‘spamspamspam’ \n",
    "</b>\n",
    "</pre>"
   ]
  },
  {
   "cell_type": "markdown",
   "id": "d2b233e8",
   "metadata": {},
   "source": [
    "<h2 style=\"color:blue;\">[8] </h2>\n",
    "\n",
    "<pre style=\"font-size:18px;\">\n",
    "<b>\n",
    "Variable name can only start with alphabets or underscore( _ ) that’s why Variable name eggs is valid but variable name 100 is not valid.\n",
    "</b>\n",
    "</pre>"
   ]
  },
  {
   "cell_type": "markdown",
   "id": "78c2e965",
   "metadata": {},
   "source": [
    "<h2 style=\"color:blue;\">[9] </h2>\n",
    "\n",
    "<pre style=\"font-size:18px;\">\n",
    "<b>\n",
    "<span style=\"color:green;\">int()</span> -> used for integer conversion we can convert any string numeric value into integer.   \n",
    "             E.g; print(int(“3”)) output:- 3 \n",
    "\n",
    "<span style=\"color:green;\">float()</span>   ->  used for conversion in float/decimal number.  \n",
    "             E.g; print(float(3)) output:- 3.0 \n",
    "\n",
    "<span style=\"color:green;\">str()</span>   ->  used to convert any number or any input into string datatype. \n",
    "             E.g;  age = str(23)  print(type(age)) à  <class 'str' \n",
    "</b>\n",
    "</pre>"
   ]
  },
  {
   "cell_type": "markdown",
   "id": "d45c4437",
   "metadata": {},
   "source": [
    "<h2 style=\"color:blue;\">[10] </h2>\n",
    "\n",
    "<pre style=\"font-size:18px;\">\n",
    "<b>\n",
    " ‘I have eaten’ + 99 + ‘burritos.’  will Give error because we can concatenate number with string we need to convert that data type into string also. \n",
    " \n",
    " ‘I have eaten’ + str(99) + ‘burritos’  or   ‘ I have eaten’ + ‘99’ + ‘burritos’  both of them will give same output. \n",
    "</b>\n",
    "</pre>"
   ]
  }
 ],
 "metadata": {
  "kernelspec": {
   "display_name": "Python 3 (ipykernel)",
   "language": "python",
   "name": "python3"
  },
  "language_info": {
   "codemirror_mode": {
    "name": "ipython",
    "version": 3
   },
   "file_extension": ".py",
   "mimetype": "text/x-python",
   "name": "python",
   "nbconvert_exporter": "python",
   "pygments_lexer": "ipython3",
   "version": "3.10.9"
  }
 },
 "nbformat": 4,
 "nbformat_minor": 5
}
